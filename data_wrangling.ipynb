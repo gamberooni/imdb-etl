{
 "metadata": {
  "language_info": {
   "codemirror_mode": {
    "name": "ipython",
    "version": 3
   },
   "file_extension": ".py",
   "mimetype": "text/x-python",
   "name": "python",
   "nbconvert_exporter": "python",
   "pygments_lexer": "ipython3",
   "version": "3.6.5"
  },
  "orig_nbformat": 2,
  "kernelspec": {
   "name": "python3",
   "display_name": "Python 3.6.5 32-bit ('venv': venv)",
   "metadata": {
    "interpreter": {
     "hash": "5c0d9e93c60fb623c1784d6e6c387ea2ebdb57072a901b742c65203752e9f776"
    }
   }
  }
 },
 "nbformat": 4,
 "nbformat_minor": 2,
 "cells": [
  {
   "cell_type": "code",
   "execution_count": 21,
   "metadata": {},
   "outputs": [],
   "source": [
    "from pyspark.sql import SparkSession\n",
    "from pyspark.sql.functions import split, explode\n",
    "from pyspark.sql.types import IntegerType"
   ]
  },
  {
   "cell_type": "code",
   "execution_count": 5,
   "metadata": {},
   "outputs": [],
   "source": [
    "spark = SparkSession.builder \\\n",
    "    .master(\"local\") \\\n",
    "    .appName(\"name basics tsv\") \\\n",
    "    .config(\"spark.some.config.option\", \"some-value\") \\\n",
    "    .getOrCreate()"
   ]
  },
  {
   "cell_type": "code",
   "execution_count": 7,
   "metadata": {},
   "outputs": [
    {
     "output_type": "execute_result",
     "data": {
      "text/plain": [
       "[Row(nconst='nm0000001', primaryName='Fred Astaire', birthYear='1899', deathYear='1987', primaryProfession='soundtrack,actor,miscellaneous', knownForTitles='tt0072308,tt0053137,tt0050419,tt0031983'),\n",
       " Row(nconst='nm0000002', primaryName='Lauren Bacall', birthYear='1924', deathYear='2014', primaryProfession='actress,soundtrack', knownForTitles='tt0038355,tt0037382,tt0117057,tt0071877'),\n",
       " Row(nconst='nm0000003', primaryName='Brigitte Bardot', birthYear='1934', deathYear='\\\\N', primaryProfession='actress,soundtrack,music_department', knownForTitles='tt0049189,tt0054452,tt0056404,tt0057345'),\n",
       " Row(nconst='nm0000004', primaryName='John Belushi', birthYear='1949', deathYear='1982', primaryProfession='actor,soundtrack,writer', knownForTitles='tt0072562,tt0077975,tt0080455,tt0078723'),\n",
       " Row(nconst='nm0000005', primaryName='Ingmar Bergman', birthYear='1918', deathYear='2007', primaryProfession='writer,director,actor', knownForTitles='tt0060827,tt0050986,tt0083922,tt0050976')]"
      ]
     },
     "metadata": {},
     "execution_count": 7
    }
   ],
   "source": [
    "name_basics_tsv = \"name.basics.tsv\"\n",
    "df = spark.read.csv(name_basics_tsv, sep=r'\\t', header=True)\n",
    "df.head(5)"
   ]
  },
  {
   "cell_type": "code",
   "execution_count": 15,
   "metadata": {},
   "outputs": [
    {
     "output_type": "stream",
     "name": "stdout",
     "text": [
      "+---------+-------------+---------+---------+-----------------+--------------------+\n|   nconst|  primaryName|birthYear|deathYear|primaryProfession|      knownForTitles|\n+---------+-------------+---------+---------+-----------------+--------------------+\n|nm0000001| Fred Astaire|     1899|     1987|       soundtrack|tt0072308,tt00531...|\n|nm0000001| Fred Astaire|     1899|     1987|            actor|tt0072308,tt00531...|\n|nm0000001| Fred Astaire|     1899|     1987|    miscellaneous|tt0072308,tt00531...|\n|nm0000002|Lauren Bacall|     1924|     2014|          actress|tt0038355,tt00373...|\n|nm0000002|Lauren Bacall|     1924|     2014|       soundtrack|tt0038355,tt00373...|\n+---------+-------------+---------+---------+-----------------+--------------------+\nonly showing top 5 rows\n\n"
     ]
    }
   ],
   "source": [
    "df.withColumn('primaryProfession', explode(split('primaryProfession', ','))).show(5)"
   ]
  },
  {
   "cell_type": "code",
   "execution_count": 16,
   "metadata": {},
   "outputs": [
    {
     "output_type": "stream",
     "name": "stdout",
     "text": [
      "+---------+-------------+---------+---------+--------------------+--------------+\n|   nconst|  primaryName|birthYear|deathYear|   primaryProfession|knownForTitles|\n+---------+-------------+---------+---------+--------------------+--------------+\n|nm0000001| Fred Astaire|     1899|     1987|soundtrack,actor,...|     tt0072308|\n|nm0000001| Fred Astaire|     1899|     1987|soundtrack,actor,...|     tt0053137|\n|nm0000001| Fred Astaire|     1899|     1987|soundtrack,actor,...|     tt0050419|\n|nm0000001| Fred Astaire|     1899|     1987|soundtrack,actor,...|     tt0031983|\n|nm0000002|Lauren Bacall|     1924|     2014|  actress,soundtrack|     tt0038355|\n+---------+-------------+---------+---------+--------------------+--------------+\nonly showing top 5 rows\n\n"
     ]
    }
   ],
   "source": [
    "df.withColumn('knownForTitles', explode(split('knownForTitles', ','))).show(5)"
   ]
  },
  {
   "cell_type": "code",
   "execution_count": 22,
   "metadata": {},
   "outputs": [
    {
     "output_type": "stream",
     "name": "stdout",
     "text": [
      "+---------+---------------+---------+---------+--------------------+--------------------+----+\n|   nconst|    primaryName|birthYear|deathYear|   primaryProfession|      knownForTitles| age|\n+---------+---------------+---------+---------+--------------------+--------------------+----+\n|nm0000001|   Fred Astaire|     1899|     1987|soundtrack,actor,...|tt0072308,tt00531...|  88|\n|nm0000002|  Lauren Bacall|     1924|     2014|  actress,soundtrack|tt0038355,tt00373...|  90|\n|nm0000003|Brigitte Bardot|     1934|       \\N|actress,soundtrac...|tt0049189,tt00544...|null|\n|nm0000004|   John Belushi|     1949|     1982|actor,soundtrack,...|tt0072562,tt00779...|  33|\n|nm0000005| Ingmar Bergman|     1918|     2007|writer,director,a...|tt0060827,tt00509...|  89|\n+---------+---------------+---------+---------+--------------------+--------------------+----+\nonly showing top 5 rows\n\n"
     ]
    }
   ],
   "source": [
    "df.withColumn('age', ( df.deathYear.cast(IntegerType()) - df.birthYear.cast(IntegerType()) )).show(5)"
   ]
  },
  {
   "cell_type": "code",
   "execution_count": 36,
   "metadata": {},
   "outputs": [
    {
     "output_type": "stream",
     "name": "stdout",
     "text": [
      "+---------+---------------+---------+---------+--------------------+--------------------+\n|   nconst|    primaryName|birthYear|deathYear|   primaryProfession|      knownForTitles|\n+---------+---------------+---------+---------+--------------------+--------------------+\n|nm0000003|Brigitte Bardot|     1934|       \\N|actress,soundtrac...|tt0049189,tt00544...|\n|nm0000047|   Sophia Loren|     1934|       \\N|  actress,soundtrack|tt0076085,tt00601...|\n|nm0000079|   Raquel Welch|     1940|       \\N|actress,soundtrac...|tt0066115,tt00627...|\n|nm0000084|        Gong Li|     1965|       \\N|             actress|tt0430357,tt03975...|\n|nm0000085| Henner Hofmann|     1950|       \\N|cinematographer,p...|tt0113482,tt18257...|\n+---------+---------------+---------+---------+--------------------+--------------------+\nonly showing top 5 rows\n\n"
     ]
    }
   ],
   "source": [
    "# is alive\n",
    "df.where((df.birthYear != '\\\\N') & (df.deathYear == '\\\\N')).show(5)"
   ]
  },
  {
   "cell_type": "code",
   "execution_count": 37,
   "metadata": {},
   "outputs": [
    {
     "output_type": "stream",
     "name": "stdout",
     "text": [
      "+---------+------------+---------+---------+--------------------+--------------------+\n|   nconst| primaryName|birthYear|deathYear|   primaryProfession|      knownForTitles|\n+---------+------------+---------+---------+--------------------+--------------------+\n|nm0000083| Alan Miller|       \\N|       \\N|editor,writer,dir...|tt0969216,tt04247...|\n|nm0000094|   J. Reifel|       \\N|       \\N|              writer|tt0118631,tt01179...|\n|nm0000647|Alan Smithee|       \\N|       \\N|director,actor,wr...|tt0116514,tt00864...|\n|nm0000712| Steve Cohen|       \\N|       \\N|assistant_directo...|tt0363685,tt00892...|\n|nm0001269|Cynthia Gibb|       \\N|       \\N|  actress,soundtrack|tt0091886,tt00993...|\n+---------+------------+---------+---------+--------------------+--------------------+\nonly showing top 5 rows\n\n"
     ]
    }
   ],
   "source": [
    "# unknown\n",
    "df.where((df.birthYear == '\\\\N') & (df.deathYear == '\\\\N')).show(5)"
   ]
  },
  {
   "cell_type": "code",
   "execution_count": 38,
   "metadata": {},
   "outputs": [
    {
     "output_type": "stream",
     "name": "stdout",
     "text": [
      "+---------+--------------+---------+---------+--------------------+--------------------+\n|   nconst|   primaryName|birthYear|deathYear|   primaryProfession|      knownForTitles|\n+---------+--------------+---------+---------+--------------------+--------------------+\n|nm0000001|  Fred Astaire|     1899|     1987|soundtrack,actor,...|tt0072308,tt00531...|\n|nm0000002| Lauren Bacall|     1924|     2014|  actress,soundtrack|tt0038355,tt00373...|\n|nm0000004|  John Belushi|     1949|     1982|actor,soundtrack,...|tt0072562,tt00779...|\n|nm0000005|Ingmar Bergman|     1918|     2007|writer,director,a...|tt0060827,tt00509...|\n|nm0000006|Ingrid Bergman|     1915|     1982|actress,soundtrac...|tt0034583,tt00381...|\n+---------+--------------+---------+---------+--------------------+--------------------+\nonly showing top 5 rows\n\n"
     ]
    }
   ],
   "source": [
    "# is not alive\n",
    "df.where((df.birthYear != '\\\\N') & (df.deathYear != '\\\\N')).show(5)"
   ]
  },
  {
   "cell_type": "code",
   "execution_count": null,
   "metadata": {},
   "outputs": [],
   "source": []
  }
 ]
}