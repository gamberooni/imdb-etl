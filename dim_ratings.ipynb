{
 "metadata": {
  "language_info": {
   "codemirror_mode": {
    "name": "ipython",
    "version": 3
   },
   "file_extension": ".py",
   "mimetype": "text/x-python",
   "name": "python",
   "nbconvert_exporter": "python",
   "pygments_lexer": "ipython3",
   "version": "3.6.9"
  },
  "orig_nbformat": 2,
  "kernelspec": {
   "name": "python3",
   "display_name": "Python 3.6.9 64-bit ('venv': venv)",
   "metadata": {
    "interpreter": {
     "hash": "e41c20a8d3bd27199782cd0c641cf6da371ab1417f8fa33273b5a4ceca2e31f4"
    }
   }
  }
 },
 "nbformat": 4,
 "nbformat_minor": 2,
 "cells": [
  {
   "cell_type": "code",
   "execution_count": 1,
   "metadata": {},
   "outputs": [],
   "source": [
    "from pyspark.sql import SparkSession\n",
    "import pyspark.sql.functions as F\n",
    "from pyspark.sql.types import IntegerType, DecimalType\n",
    "import os\n",
    "\n",
    "master = \"spark://zy-ubuntu:7077\"  \n",
    "os.environ['PYSPARK_SUBMIT_ARGS'] = f'--master {master} --driver-memory 4g --total-executor-cores 6 --executor-memory 8g --packages org.postgresql:postgresql:42.1.1 pyspark-shell'"
   ]
  },
  {
   "cell_type": "code",
   "execution_count": 2,
   "metadata": {},
   "outputs": [],
   "source": [
    "spark = SparkSession.builder \\\n",
    "    .appName(\"title ratings\") \\\n",
    "    .getOrCreate()"
   ]
  },
  {
   "cell_type": "code",
   "execution_count": 3,
   "metadata": {},
   "outputs": [
    {
     "output_type": "stream",
     "name": "stdout",
     "text": [
      "root\n |-- tconst: string (nullable = true)\n |-- averageRating: string (nullable = true)\n |-- numVotes: string (nullable = true)\n\n"
     ]
    }
   ],
   "source": [
    "title_ratings_df = spark.read.csv(\"title.ratings.tsv\", sep=r'\\t', header=True)\n",
    "title_ratings_df.printSchema()"
   ]
  },
  {
   "cell_type": "code",
   "execution_count": 4,
   "metadata": {},
   "outputs": [
    {
     "output_type": "stream",
     "name": "stdout",
     "text": [
      "+---------+-------------+--------+\n|   tconst|averageRating|numVotes|\n+---------+-------------+--------+\n|tt0000001|          5.7|    1707|\n|tt0000002|          6.1|     210|\n|tt0000003|          6.5|    1466|\n|tt0000004|          6.2|     123|\n|tt0000005|          6.2|    2267|\n|tt0000006|          5.1|     127|\n|tt0000007|          5.5|     691|\n|tt0000008|          5.4|    1878|\n|tt0000009|          5.9|     155|\n|tt0000010|          6.9|    6346|\n|tt0000011|          5.2|     282|\n|tt0000012|          7.4|   10906|\n|tt0000013|          5.8|    1635|\n|tt0000014|          7.1|    4861|\n|tt0000015|          6.2|     884|\n|tt0000016|          5.9|    1262|\n|tt0000017|          4.6|     257|\n|tt0000018|          5.4|     508|\n|tt0000019|          5.3|      19|\n|tt0000020|          4.9|     282|\n+---------+-------------+--------+\nonly showing top 20 rows\n\n"
     ]
    }
   ],
   "source": [
    "title_ratings_df.show()"
   ]
  },
  {
   "cell_type": "code",
   "execution_count": 5,
   "metadata": {},
   "outputs": [
    {
     "output_type": "stream",
     "name": "stdout",
     "text": [
      "root\n |-- tconst: string (nullable = true)\n |-- av_rating: decimal(10,1) (nullable = true)\n |-- num_votes: integer (nullable = true)\n\n"
     ]
    }
   ],
   "source": [
    "title_ratings_df = title_ratings_df.withColumnRenamed(\"averageRating\", 'av_rating').withColumnRenamed('numVotes', 'num_votes')\n",
    "title_ratings_df = title_ratings_df.withColumn('av_rating', F.col('av_rating').cast(DecimalType(10, 1)))\n",
    "title_ratings_df = title_ratings_df.withColumn('num_votes', F.col('num_votes').cast(IntegerType()))\n",
    "title_ratings_df.printSchema()"
   ]
  },
  {
   "cell_type": "code",
   "execution_count": 6,
   "metadata": {},
   "outputs": [
    {
     "output_type": "stream",
     "name": "stdout",
     "text": [
      "+---------+---------+---------+\n|   tconst|av_rating|num_votes|\n+---------+---------+---------+\n|tt0000001|      5.7|     1707|\n|tt0000002|      6.1|      210|\n|tt0000003|      6.5|     1466|\n|tt0000004|      6.2|      123|\n|tt0000005|      6.2|     2267|\n|tt0000006|      5.1|      127|\n|tt0000007|      5.5|      691|\n|tt0000008|      5.4|     1878|\n|tt0000009|      5.9|      155|\n|tt0000010|      6.9|     6346|\n|tt0000011|      5.2|      282|\n|tt0000012|      7.4|    10906|\n|tt0000013|      5.8|     1635|\n|tt0000014|      7.1|     4861|\n|tt0000015|      6.2|      884|\n|tt0000016|      5.9|     1262|\n|tt0000017|      4.6|      257|\n|tt0000018|      5.4|      508|\n|tt0000019|      5.3|       19|\n|tt0000020|      4.9|      282|\n+---------+---------+---------+\nonly showing top 20 rows\n\n"
     ]
    }
   ],
   "source": [
    "title_ratings_df.show()"
   ]
  },
  {
   "cell_type": "code",
   "execution_count": 15,
   "metadata": {},
   "outputs": [],
   "source": [
    "title_ratings_df.write.format('jdbc').options(\n",
    "      url='jdbc:postgresql://localhost:5433/imdb',\n",
    "      driver='org.postgresql.Driver',\n",
    "      dbtable='dim_ratings',\n",
    "      user='admin',\n",
    "      password='password'\n",
    "      ).mode('append').save()"
   ]
  }
 ]
}