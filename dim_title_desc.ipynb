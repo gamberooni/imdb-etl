{
 "metadata": {
  "language_info": {
   "codemirror_mode": {
    "name": "ipython",
    "version": 3
   },
   "file_extension": ".py",
   "mimetype": "text/x-python",
   "name": "python",
   "nbconvert_exporter": "python",
   "pygments_lexer": "ipython3",
   "version": "3.6.9"
  },
  "orig_nbformat": 2,
  "kernelspec": {
   "name": "python3",
   "display_name": "Python 3",
   "language": "python"
  }
 },
 "nbformat": 4,
 "nbformat_minor": 2,
 "cells": [
  {
   "cell_type": "code",
   "execution_count": 1,
   "metadata": {},
   "outputs": [],
   "source": [
    "from pyspark.sql import SparkSession\n",
    "import pyspark.sql.functions as F\n",
    "from pyspark.sql.types import StructType, StructField, IntegerType, ShortType, DecimalType\n",
    "import datetime\n",
    "import os\n",
    "\n",
    "master = \"spark://zy-ubuntu:7077\"  \n",
    "os.environ['PYSPARK_SUBMIT_ARGS'] = f'--master {master} --driver-memory 4g --total-executor-cores 6 --executor-memory 8g --packages org.postgresql:postgresql:42.1.1 pyspark-shell'"
   ]
  },
  {
   "cell_type": "code",
   "execution_count": 2,
   "metadata": {},
   "outputs": [],
   "source": [
    "spark = SparkSession.builder \\\n",
    "    .appName(\"title desc\") \\\n",
    "    .getOrCreate()"
   ]
  },
  {
   "cell_type": "code",
   "execution_count": 3,
   "metadata": {},
   "outputs": [
    {
     "output_type": "stream",
     "name": "stdout",
     "text": [
      "root\n |-- tconst: string (nullable = true)\n |-- titleType: string (nullable = true)\n |-- primaryTitle: string (nullable = true)\n |-- originalTitle: string (nullable = true)\n |-- isAdult: string (nullable = true)\n |-- startYear: string (nullable = true)\n |-- endYear: string (nullable = true)\n |-- runtimeMinutes: string (nullable = true)\n |-- genres: string (nullable = true)\n\n"
     ]
    }
   ],
   "source": [
    "title_basics_df = spark.read.csv(\"title.basics.tsv\", sep=r'\\t', header=True)\n",
    "title_basics_df.printSchema()"
   ]
  },
  {
   "cell_type": "code",
   "execution_count": 4,
   "metadata": {},
   "outputs": [],
   "source": [
    "genres_split = F.split(title_basics_df['genres'], ',')\n",
    "title_basics_df = title_basics_df.withColumn('genre_1', genres_split.getItem(0))\n",
    "title_basics_df = title_basics_df.withColumn('genre_2', genres_split.getItem(1))\n",
    "title_basics_df = title_basics_df.withColumn('genre_3', genres_split.getItem(2))\n",
    "\n",
    "title_basics_df = title_basics_df.withColumnRenamed('titleType', 'type') \\\n",
    "    .withColumnRenamed('primaryTitle', 'primary_title') \\\n",
    "    .withColumnRenamed('originalTitle', 'original_title') \\\n",
    "    .withColumnRenamed('isAdult', 'is_adult') \\\n",
    "    .withColumnRenamed('startYear', 'start_year') \\\n",
    "    .withColumnRenamed('endYear', 'end_year') \\\n",
    "    .withColumnRenamed('runtimeMinutes', 'runtime_minutes') \\\n",
    "    .drop('genres')\n",
    "\n",
    "title_basics_df = title_basics_df.withColumn('end_year', F.when(F.col('end_year') == '\\\\N', F.lit(None)).otherwise(F.col('end_year'))) \n",
    "title_basics_df = title_basics_df.withColumn('runtime_minutes', F.when(F.col('runtime_minutes') == '\\\\N', F.lit(None)).otherwise(F.col('runtime_minutes'))) \n",
    "title_basics_df = title_basics_df.withColumn('is_adult', F.when(F.col('is_adult') == '0', F.lit(False)).otherwise(F.lit(True)))   \n",
    "\n",
    "title_basics_df = title_basics_df.withColumn('start_year', F.col('start_year').cast(ShortType()))\n",
    "title_basics_df = title_basics_df.withColumn('end_year', F.col('end_year').cast(ShortType()))\n",
    "title_basics_df = title_basics_df.withColumn('runtime_minutes', F.col('runtime_minutes').cast(ShortType()))\n",
    "\n",
    "# title_basics_df.show()"
   ]
  },
  {
   "cell_type": "code",
   "execution_count": 68,
   "metadata": {},
   "outputs": [
    {
     "output_type": "stream",
     "name": "stdout",
     "text": [
      "root\n |-- tconst: string (nullable = true)\n |-- type: string (nullable = true)\n |-- primary_title: string (nullable = true)\n |-- original_title: string (nullable = true)\n |-- is_adult: boolean (nullable = false)\n |-- start_year: short (nullable = true)\n |-- end_year: short (nullable = true)\n |-- runtime_minutes: short (nullable = true)\n |-- genre_1: string (nullable = true)\n |-- genre_2: string (nullable = true)\n |-- genre_3: string (nullable = true)\n\n"
     ]
    }
   ],
   "source": [
    "title_basics_df.printSchema()"
   ]
  },
  {
   "cell_type": "code",
   "execution_count": 5,
   "metadata": {},
   "outputs": [
    {
     "output_type": "stream",
     "name": "stdout",
     "text": [
      "root\n |-- tconst: string (nullable = true)\n |-- averageRating: string (nullable = true)\n |-- numVotes: string (nullable = true)\n\n"
     ]
    }
   ],
   "source": [
    "title_ratings_df = spark.read.csv(\"title.ratings.tsv\", sep=r'\\t', header=True)\n",
    "title_ratings_df.printSchema()"
   ]
  },
  {
   "cell_type": "code",
   "execution_count": 6,
   "metadata": {},
   "outputs": [
    {
     "output_type": "stream",
     "name": "stdout",
     "text": [
      "root\n |-- tconst: string (nullable = true)\n |-- av_rating: decimal(10,1) (nullable = true)\n |-- num_votes: integer (nullable = true)\n\n"
     ]
    }
   ],
   "source": [
    "title_ratings_df = title_ratings_df.withColumnRenamed(\"averageRating\", 'av_rating').withColumnRenamed('numVotes', 'num_votes')\n",
    "title_ratings_df = title_ratings_df.withColumn('av_rating', F.col('av_rating').cast(DecimalType(10, 1)))\n",
    "title_ratings_df = title_ratings_df.withColumn('num_votes', F.col('num_votes').cast(IntegerType()))\n",
    "title_ratings_df.printSchema()"
   ]
  },
  {
   "cell_type": "code",
   "execution_count": 7,
   "metadata": {},
   "outputs": [],
   "source": [
    "df_final = title_basics_df.join(title_ratings_df, ['tconst'])\n",
    "# df_final.show()"
   ]
  },
  {
   "cell_type": "code",
   "execution_count": 72,
   "metadata": {},
   "outputs": [
    {
     "output_type": "stream",
     "name": "stdout",
     "text": [
      "root\n |-- tconst: string (nullable = true)\n |-- type: string (nullable = true)\n |-- primary_title: string (nullable = true)\n |-- original_title: string (nullable = true)\n |-- is_adult: boolean (nullable = false)\n |-- start_year: short (nullable = true)\n |-- end_year: short (nullable = true)\n |-- runtime_minutes: short (nullable = true)\n |-- genre_1: string (nullable = true)\n |-- genre_2: string (nullable = true)\n |-- genre_3: string (nullable = true)\n |-- av_rating: decimal(10,1) (nullable = true)\n |-- num_votes: integer (nullable = true)\n\n"
     ]
    }
   ],
   "source": [
    "df_final.printSchema()"
   ]
  },
  {
   "cell_type": "code",
   "execution_count": 8,
   "metadata": {},
   "outputs": [
    {
     "output_type": "stream",
     "name": "stdout",
     "text": [
      "root\n |-- tconst: string (nullable = false)\n |-- type: string (nullable = true)\n |-- primary_title: string (nullable = false)\n |-- original_title: string (nullable = false)\n |-- is_adult: boolean (nullable = false)\n |-- start_year: short (nullable = true)\n |-- end_year: short (nullable = true)\n |-- runtime_minutes: short (nullable = true)\n |-- genre_1: string (nullable = true)\n |-- genre_2: string (nullable = true)\n |-- genre_3: string (nullable = true)\n |-- av_rating: decimal(10,1) (nullable = true)\n |-- num_votes: integer (nullable = true)\n\n"
     ]
    }
   ],
   "source": [
    "def set_df_columns_nullable(spark, df, column_list, nullable=True):\n",
    "    for struct_field in df.schema:\n",
    "        if struct_field.name in column_list:\n",
    "            struct_field.nullable = nullable\n",
    "    df_mod = spark.createDataFrame(df.rdd, df.schema)\n",
    "    return df_mod\n",
    "\n",
    "df_final = set_df_columns_nullable(spark, df_final, ['tconst','primary_title', 'original_title'], False)\n",
    "df_final.printSchema()"
   ]
  },
  {
   "cell_type": "code",
   "execution_count": 9,
   "metadata": {},
   "outputs": [],
   "source": [
    "# insert df into dim_casts table\n",
    "df_final.write.format('jdbc').options(\n",
    "      url='jdbc:postgresql://localhost:5433/imdb',\n",
    "      driver='org.postgresql.Driver',\n",
    "      dbtable='dim_title_desc',\n",
    "      user='admin',\n",
    "      password='password'\n",
    "      ).mode('append').save()"
   ]
  },
  {
   "cell_type": "code",
   "execution_count": null,
   "metadata": {},
   "outputs": [],
   "source": []
  }
 ]
}