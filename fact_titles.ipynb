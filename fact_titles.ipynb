{
 "metadata": {
  "language_info": {
   "codemirror_mode": {
    "name": "ipython",
    "version": 3
   },
   "file_extension": ".py",
   "mimetype": "text/x-python",
   "name": "python",
   "nbconvert_exporter": "python",
   "pygments_lexer": "ipython3",
   "version": "3.6.9"
  },
  "orig_nbformat": 2,
  "kernelspec": {
   "name": "python3",
   "display_name": "Python 3.6.9  ('venv': venv)",
   "metadata": {
    "interpreter": {
     "hash": "bf4611e601c174f023ee6d5ec1b694fc68b25a2a6a2cefb5ab3330490a5e6955"
    }
   }
  }
 },
 "nbformat": 4,
 "nbformat_minor": 2,
 "cells": [
  {
   "cell_type": "code",
   "execution_count": 1,
   "metadata": {},
   "outputs": [],
   "source": [
    "from pyspark.sql import SparkSession\n",
    "import pyspark.sql.functions as F\n",
    "from pyspark.sql.types import StructType, StructField, IntegerType\n",
    "import datetime\n",
    "import os\n",
    "\n",
    "master = \"spark://zy-ubuntu:7077\"  \n",
    "os.environ['PYSPARK_SUBMIT_ARGS'] = f'--master {master} --driver-memory 4g --total-executor-cores 6 --executor-memory 8g --packages org.postgresql:postgresql:42.1.1 pyspark-shell'"
   ]
  },
  {
   "cell_type": "code",
   "execution_count": 2,
   "metadata": {},
   "outputs": [],
   "source": [
    "spark = SparkSession.builder \\\n",
    "    .appName(\"fact titles\") \\\n",
    "    .getOrCreate()"
   ]
  },
  {
   "cell_type": "code",
   "execution_count": 3,
   "metadata": {},
   "outputs": [
    {
     "output_type": "stream",
     "name": "stdout",
     "text": [
      "root\n |-- id: integer (nullable = true)\n |-- tconst: string (nullable = true)\n |-- type: string (nullable = true)\n |-- primary_title: string (nullable = true)\n |-- original_title: string (nullable = true)\n |-- is_adult: boolean (nullable = true)\n |-- start_year: short (nullable = true)\n |-- end_year: short (nullable = true)\n |-- runtime_minutes: short (nullable = true)\n |-- av_rating: float (nullable = true)\n |-- num_votes: integer (nullable = true)\n |-- genre_1: string (nullable = true)\n |-- genre_2: string (nullable = true)\n |-- genre_3: string (nullable = true)\n\n"
     ]
    }
   ],
   "source": [
    "title_desc_df = spark.read.format('jdbc').options(\n",
    "      url='jdbc:postgresql://localhost:5433/imdb',\n",
    "      driver='org.postgresql.Driver',\n",
    "      dbtable='dim_title_desc',\n",
    "      user='admin',\n",
    "      password='password'\n",
    "      ).load()\n",
    "title_desc_df.printSchema()"
   ]
  },
  {
   "cell_type": "code",
   "execution_count": 4,
   "metadata": {},
   "outputs": [
    {
     "output_type": "stream",
     "name": "stdout",
     "text": [
      "+---+---------+-----+--------------------+--------------------+--------+----------+--------+---------------+---------+---------+-----------+---------+--------+\n| id|   tconst| type|       primary_title|      original_title|is_adult|start_year|end_year|runtime_minutes|av_rating|num_votes|    genre_1|  genre_2| genre_3|\n+---+---------+-----+--------------------+--------------------+--------+----------+--------+---------------+---------+---------+-----------+---------+--------+\n|  1|tt0000186|short|   Le cuirassé Maine|   Le cuirassé Maine|   false|      1898|    null|           null|      4.2|       12|      Short|      War|    null|\n|  2|tt0000302|short|La fée aux choux,...|La fée aux choux,...|   false|      1900|    null|              1|      5.1|      163|      Short|     null|    null|\n|  3|tt0000379|short|Visita de la escu...|Visita de la escu...|   false|      1901|    null|              6|      5.2|        6|Documentary|    Short|    null|\n|  4|tt0000880|short| The Girls and Daddy| The Girls and Daddy|   false|      1909|    null|             15|      5.9|       40|      Drama|    Short|    null|\n|  5|tt0000901|short|   His Wife's Mother|   His Wife's Mother|   false|      1909|    null|              6|      4.7|        7|     Comedy|    Short|    null|\n|  6|tt0001234|short|     Gold Is Not All|     Gold Is Not All|   false|      1910|    null|             16|      5.4|       12|      Drama|    Short|    null|\n|  7|tt0001459|short|Winning Back His ...|Winning Back His ...|   false|      1910|    null|             17|      5.5|       43|      Drama|  Romance|   Short|\n|  8|tt0002659|short|    Bangville Police|    Bangville Police|   false|      1913|    null|              8|      5.3|      719|     Comedy|    Short|    null|\n|  9|tt0003451|short|Thor, Lord of the...|Thor, Lord of the...|   false|      1913|    null|             28|      5.6|       12|  Adventure|    Short|Thriller|\n| 10|tt0005250|movie|    The Eternal City|    The Eternal City|   false|      1915|    null|             80|      7.2|        6|      Drama|     null|    null|\n| 11|tt0006600|movie|          Mr. Doctor|           Doktor úr|   false|      1916|    null|           null|      3.9|       14|         \\N|     null|    null|\n| 12|tt0007313|movie|  The Secret Kingdom|  The Secret Kingdom|   false|      1917|    null|           null|      5.6|        8|  Adventure|  Romance|Thriller|\n| 13|tt0007476|short|      Triple Trouble|      Triple Trouble|   false|      1918|    null|             23|      5.2|      970|     Comedy|    Short|    null|\n| 14|tt0007558|movie|Where Are My Chil...|Where Are My Chil...|   false|      1916|    null|             62|      6.3|      632|      Drama|     null|    null|\n| 15|tt0009137|movie|       The Gun Woman|       The Gun Woman|   false|      1918|    null|             50|      7.3|       14|    Western|     null|    null|\n| 16|tt0009423|movie|        The Naulahka|        The Naulahka|   false|      1918|    null|             60|      6.1|        7|  Adventure|     null|    null|\n| 17|tt0010049|movie|       The Dark Star|       The Dark Star|   false|      1919|    null|             60|      8.1|       36|  Adventure|     null|    null|\n| 18|tt0010180|movie|Godovshchina revo...|Godovshchina revo...|   false|      1918|    null|            119|      7.0|       87|Documentary|     null|    null|\n| 19|tt0010915|movie|The Woman Under Oath|The Woman Under Oath|   false|      1919|    null|           null|      6.3|       14|    Mystery|     null|    null|\n| 20|tt0011577|movie|         Pirate Gold|         Pirate Gold|   false|      1920|    null|           null|      4.9|       10|     Action|Adventure|    null|\n+---+---------+-----+--------------------+--------------------+--------+----------+--------+---------------+---------+---------+-----------+---------+--------+\nonly showing top 20 rows\n\n"
     ]
    }
   ],
   "source": [
    "title_desc_df.show()"
   ]
  },
  {
   "cell_type": "code",
   "execution_count": 6,
   "metadata": {},
   "outputs": [
    {
     "output_type": "stream",
     "name": "stdout",
     "text": [
      "+---+---------+\n| id|   tconst|\n+---+---------+\n|  1|tt0000186|\n|  2|tt0000302|\n|  3|tt0000379|\n|  4|tt0000880|\n|  5|tt0000901|\n|  6|tt0001234|\n|  7|tt0001459|\n|  8|tt0002659|\n|  9|tt0003451|\n| 10|tt0005250|\n| 11|tt0006600|\n| 12|tt0007313|\n| 13|tt0007476|\n| 14|tt0007558|\n| 15|tt0009137|\n| 16|tt0009423|\n| 17|tt0010049|\n| 18|tt0010180|\n| 19|tt0010915|\n| 20|tt0011577|\n+---+---------+\nonly showing top 20 rows\n\n"
     ]
    }
   ],
   "source": [
    "title_desc_id_df = title_desc_df.select('id', 'tconst')\n",
    "title_desc_id_df.show()"
   ]
  },
  {
   "cell_type": "code",
   "execution_count": null,
   "metadata": {},
   "outputs": [],
   "source": []
  }
 ]
}