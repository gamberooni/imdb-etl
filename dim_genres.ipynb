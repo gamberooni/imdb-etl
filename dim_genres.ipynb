{
 "metadata": {
  "language_info": {
   "codemirror_mode": {
    "name": "ipython",
    "version": 3
   },
   "file_extension": ".py",
   "mimetype": "text/x-python",
   "name": "python",
   "nbconvert_exporter": "python",
   "pygments_lexer": "ipython3",
   "version": "3.6.9"
  },
  "orig_nbformat": 2,
  "kernelspec": {
   "name": "python3",
   "display_name": "Python 3.6.9 64-bit ('venv': venv)",
   "metadata": {
    "interpreter": {
     "hash": "e41c20a8d3bd27199782cd0c641cf6da371ab1417f8fa33273b5a4ceca2e31f4"
    }
   }
  }
 },
 "nbformat": 4,
 "nbformat_minor": 2,
 "cells": [
  {
   "cell_type": "code",
   "execution_count": 1,
   "metadata": {},
   "outputs": [],
   "source": [
    "from pyspark.sql import SparkSession\n",
    "import pyspark.sql.functions as F\n",
    "from pyspark.sql.types import StructType, StructField, IntegerType\n",
    "import datetime\n",
    "import os\n",
    "\n",
    "master = \"spark://zy-ubuntu:7077\"  \n",
    "os.environ['PYSPARK_SUBMIT_ARGS'] = f'--master {master} --driver-memory 4g --total-executor-cores 6 --executor-memory 8g --packages org.postgresql:postgresql:42.1.1 pyspark-shell'"
   ]
  },
  {
   "cell_type": "code",
   "execution_count": 2,
   "metadata": {},
   "outputs": [],
   "source": [
    "spark = SparkSession.builder \\\n",
    "    .appName(\"title genres\") \\\n",
    "    .getOrCreate()"
   ]
  },
  {
   "cell_type": "code",
   "execution_count": 3,
   "metadata": {},
   "outputs": [
    {
     "output_type": "stream",
     "name": "stdout",
     "text": [
      "root\n |-- tconst: string (nullable = true)\n |-- titleType: string (nullable = true)\n |-- primaryTitle: string (nullable = true)\n |-- originalTitle: string (nullable = true)\n |-- isAdult: string (nullable = true)\n |-- startYear: string (nullable = true)\n |-- endYear: string (nullable = true)\n |-- runtimeMinutes: string (nullable = true)\n |-- genres: string (nullable = true)\n\n"
     ]
    }
   ],
   "source": [
    "title_basics_df = spark.read.csv(\"title.basics.tsv\", sep=r'\\t', header=True)\n",
    "title_basics_df.printSchema()"
   ]
  },
  {
   "cell_type": "code",
   "execution_count": 5,
   "metadata": {},
   "outputs": [
    {
     "output_type": "stream",
     "name": "stdout",
     "text": [
      "+---------+-----------+\n|tconst   |genres     |\n+---------+-----------+\n|tt0000001|Documentary|\n|tt0000001|Short      |\n|tt0000002|Animation  |\n|tt0000002|Short      |\n|tt0000003|Animation  |\n|tt0000003|Comedy     |\n|tt0000003|Romance    |\n|tt0000004|Animation  |\n|tt0000004|Short      |\n|tt0000005|Comedy     |\n|tt0000005|Short      |\n|tt0000006|Short      |\n|tt0000007|Short      |\n|tt0000007|Sport      |\n|tt0000008|Documentary|\n|tt0000008|Short      |\n|tt0000009|Romance    |\n|tt0000009|Short      |\n|tt0000010|Documentary|\n|tt0000010|Short      |\n+---------+-----------+\nonly showing top 20 rows\n\n"
     ]
    }
   ],
   "source": [
    "title_genres_df = title_basics_df.select('tconst', 'genres')\n",
    "title_genres_df = title_genres_df.withColumn('genres', F.explode(F.split('genres', ',')))\n",
    "title_genres_df.show(truncate=False)"
   ]
  },
  {
   "cell_type": "code",
   "execution_count": 6,
   "metadata": {},
   "outputs": [
    {
     "output_type": "execute_result",
     "data": {
      "text/plain": [
       "12646319"
      ]
     },
     "metadata": {},
     "execution_count": 6
    }
   ],
   "source": [
    "title_genres_df.count()"
   ]
  }
 ]
}