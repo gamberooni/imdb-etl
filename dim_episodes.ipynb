{
 "metadata": {
  "language_info": {
   "codemirror_mode": {
    "name": "ipython",
    "version": 3
   },
   "file_extension": ".py",
   "mimetype": "text/x-python",
   "name": "python",
   "nbconvert_exporter": "python",
   "pygments_lexer": "ipython3",
   "version": "3.6.9"
  },
  "orig_nbformat": 2,
  "kernelspec": {
   "name": "python3",
   "display_name": "Python 3.6.9 64-bit ('venv': venv)",
   "metadata": {
    "interpreter": {
     "hash": "bf4611e601c174f023ee6d5ec1b694fc68b25a2a6a2cefb5ab3330490a5e6955"
    }
   }
  }
 },
 "nbformat": 4,
 "nbformat_minor": 2,
 "cells": [
  {
   "cell_type": "code",
   "execution_count": 38,
   "metadata": {},
   "outputs": [],
   "source": [
    "from pyspark.sql import SparkSession\n",
    "import pyspark.sql.functions as F\n",
    "from pyspark.sql.functions import when\n",
    "from pyspark.sql.types import StructType, StructField, ShortType, StringType\n",
    "import datetime\n",
    "import os\n",
    "\n",
    "master = \"spark://zy-ubuntu:7077\"  \n",
    "os.environ['PYSPARK_SUBMIT_ARGS'] = f'--master {master} --driver-memory 4g --total-executor-cores 8 --executor-memory 8g --packages org.postgresql:postgresql:42.1.1 pyspark-shell'"
   ]
  },
  {
   "cell_type": "code",
   "execution_count": 2,
   "metadata": {},
   "outputs": [],
   "source": [
    "spark = SparkSession.builder \\\n",
    "    .appName(\"dim episodes\") \\\n",
    "    .getOrCreate()"
   ]
  },
  {
   "cell_type": "code",
   "execution_count": 32,
   "metadata": {},
   "outputs": [
    {
     "output_type": "stream",
     "name": "stdout",
     "text": [
      "root\n |-- tconst: string (nullable = true)\n |-- parentTconst: string (nullable = true)\n |-- seasonNumber: string (nullable = true)\n |-- episodeNumber: string (nullable = true)\n\n"
     ]
    }
   ],
   "source": [
    "title_episodes_df = spark.read.csv(\"title.episode.tsv\", sep=r'\\t', header=True)\n",
    "title_episodes_df.printSchema()"
   ]
  },
  {
   "cell_type": "code",
   "execution_count": 33,
   "metadata": {},
   "outputs": [
    {
     "output_type": "stream",
     "name": "stdout",
     "text": [
      "+------------+------------+-------------+\n|parentTconst|seasonNumber|episodeNumber|\n+------------+------------+-------------+\n|   tt0032557|           1|           15|\n|   tt0032557|           1|           14|\n|   tt0032557|           1|           13|\n|   tt0032557|           1|           12|\n|   tt0032557|           1|           11|\n|   tt0032557|           1|           10|\n|   tt0032557|           1|            9|\n|   tt0032557|           1|            8|\n|   tt0032557|           1|            7|\n|   tt0032557|           1|            6|\n|   tt0032557|           1|            5|\n|   tt0032557|           1|            4|\n|   tt0032557|           1|            3|\n|   tt0032557|           1|            2|\n|   tt0032557|           1|            1|\n|   tt0038276|           1|            1|\n|   tt0038276|        null|         null|\n|   tt0038276|        null|         null|\n|   tt0038276|        null|         null|\n|   tt0038276|        null|         null|\n+------------+------------+-------------+\nonly showing top 20 rows\n\n"
     ]
    }
   ],
   "source": [
    "title_episodes_df = title_episodes_df.withColumn('seasonNumber', F.col('seasonNumber').cast(ShortType()))\n",
    "title_episodes_df = title_episodes_df.withColumn('episodeNumber', F.col('episodeNumber').cast(ShortType()))\n",
    "title_episodes_df = title_episodes_df.drop('tconst')\n",
    "title_episodes_df.sort('parentTconst', F.col('seasonNumber').desc(), F.col('episodeNumber').desc()).show()"
   ]
  },
  {
   "cell_type": "code",
   "execution_count": 34,
   "metadata": {},
   "outputs": [],
   "source": [
    "# get the list of unique parent tconst in the df\n",
    "parentTconst_list = [row.parentTconst for row in title_episodes_df.select('parentTconst').distinct().collect()]"
   ]
  },
  {
   "cell_type": "code",
   "execution_count": 84,
   "metadata": {},
   "outputs": [
    {
     "output_type": "error",
     "ename": "IndexError",
     "evalue": "list index out of range",
     "traceback": [
      "\u001b[0;31m---------------------------------------------------------------------------\u001b[0m",
      "\u001b[0;31mIndexError\u001b[0m                                Traceback (most recent call last)",
      "\u001b[0;32m<ipython-input-84-f53c32443ac1>\u001b[0m in \u001b[0;36m<module>\u001b[0;34m\u001b[0m\n\u001b[1;32m      6\u001b[0m \u001b[0moutput_columns\u001b[0m \u001b[0;34m=\u001b[0m \u001b[0;34m[\u001b[0m\u001b[0;34m\"parent_tconst\"\u001b[0m\u001b[0;34m,\u001b[0m \u001b[0;34m\"season\"\u001b[0m\u001b[0;34m,\u001b[0m \u001b[0;34m'total_episodes'\u001b[0m\u001b[0;34m]\u001b[0m\u001b[0;34m\u001b[0m\u001b[0;34m\u001b[0m\u001b[0m\n\u001b[1;32m      7\u001b[0m \u001b[0;32mwhile\u001b[0m \u001b[0;32mTrue\u001b[0m\u001b[0;34m:\u001b[0m\u001b[0;34m\u001b[0m\u001b[0;34m\u001b[0m\u001b[0m\n\u001b[0;32m----> 8\u001b[0;31m     \u001b[0mseason\u001b[0m \u001b[0;34m=\u001b[0m \u001b[0mtmp\u001b[0m\u001b[0;34m.\u001b[0m\u001b[0mfilter\u001b[0m\u001b[0;34m(\u001b[0m\u001b[0mF\u001b[0m\u001b[0;34m.\u001b[0m\u001b[0mcol\u001b[0m\u001b[0;34m(\u001b[0m\u001b[0;34m'seasonNumber'\u001b[0m\u001b[0;34m)\u001b[0m \u001b[0;34m==\u001b[0m \u001b[0mseason\u001b[0m\u001b[0;34m)\u001b[0m\u001b[0;34m.\u001b[0m\u001b[0mcollect\u001b[0m\u001b[0;34m(\u001b[0m\u001b[0;34m)\u001b[0m\u001b[0;34m[\u001b[0m\u001b[0;36m0\u001b[0m\u001b[0;34m]\u001b[0m\u001b[0;34m[\u001b[0m\u001b[0;36m1\u001b[0m\u001b[0;34m]\u001b[0m\u001b[0;34m\u001b[0m\u001b[0;34m\u001b[0m\u001b[0m\n\u001b[0m\u001b[1;32m      9\u001b[0m     \u001b[0mep_count\u001b[0m \u001b[0;34m=\u001b[0m \u001b[0mtmp\u001b[0m\u001b[0;34m.\u001b[0m\u001b[0mfilter\u001b[0m\u001b[0;34m(\u001b[0m\u001b[0mF\u001b[0m\u001b[0;34m.\u001b[0m\u001b[0mcol\u001b[0m\u001b[0;34m(\u001b[0m\u001b[0;34m'seasonNumber'\u001b[0m\u001b[0;34m)\u001b[0m \u001b[0;34m==\u001b[0m \u001b[0mseason\u001b[0m\u001b[0;34m)\u001b[0m\u001b[0;34m.\u001b[0m\u001b[0mcollect\u001b[0m\u001b[0;34m(\u001b[0m\u001b[0;34m)\u001b[0m\u001b[0;34m[\u001b[0m\u001b[0;36m0\u001b[0m\u001b[0;34m]\u001b[0m\u001b[0;34m[\u001b[0m\u001b[0;36m2\u001b[0m\u001b[0;34m]\u001b[0m\u001b[0;34m\u001b[0m\u001b[0;34m\u001b[0m\u001b[0m\n\u001b[1;32m     10\u001b[0m     \u001b[0moutput\u001b[0m\u001b[0;34m.\u001b[0m\u001b[0mappend\u001b[0m\u001b[0;34m(\u001b[0m\u001b[0;34m(\u001b[0m\u001b[0mparentTconst_list\u001b[0m\u001b[0;34m[\u001b[0m\u001b[0;36m0\u001b[0m\u001b[0;34m]\u001b[0m\u001b[0;34m,\u001b[0m \u001b[0mseason\u001b[0m\u001b[0;34m,\u001b[0m \u001b[0mep_count\u001b[0m\u001b[0;34m)\u001b[0m\u001b[0;34m)\u001b[0m\u001b[0;34m\u001b[0m\u001b[0;34m\u001b[0m\u001b[0m\n",
      "\u001b[0;31mIndexError\u001b[0m: list index out of range"
     ]
    }
   ],
   "source": [
    "tmp = title_episodes_df.filter(F.col('parentTconst') == 'tt0168358').sort('parentTconst', F.col('seasonNumber').desc(), F.col('episodeNumber').desc())\n",
    "\n",
    "season = tmp.collect()[0][1]\n",
    "\n",
    "output = []\n",
    "output_columns = [\"parent_tconst\", \"season\", 'total_episodes']\n",
    "while True:\n",
    "    season = tmp.filter(F.col('seasonNumber') == season).collect()[0][1]\n",
    "    ep_count = tmp.filter(F.col('seasonNumber') == season).collect()[0][2]\n",
    "    output.append((parentTconst_list[0], season, ep_count))\n",
    "    if season == 1 or season == None:\n",
    "        break\n",
    "    season -= 1\n",
    "\n",
    "output_df = spark.createDataFrame(data=output, schema=output_columns)"
   ]
  },
  {
   "cell_type": "code",
   "execution_count": 85,
   "metadata": {},
   "outputs": [
    {
     "output_type": "stream",
     "name": "stdout",
     "text": [
      "+------------+------------+-------------+\n|parentTconst|seasonNumber|episodeNumber|\n+------------+------------+-------------+\n|   tt0168358|          26|           26|\n|   tt0168358|          26|            3|\n|   tt0168358|          26|            2|\n|   tt0168358|          19|            1|\n|   tt0168358|          18|            1|\n|   tt0168358|          17|            1|\n|   tt0168358|          16|            1|\n|   tt0168358|          15|            1|\n|   tt0168358|          14|            1|\n|   tt0168358|          13|           10|\n|   tt0168358|          13|            1|\n|   tt0168358|          12|            9|\n|   tt0168358|          12|            1|\n|   tt0168358|          11|           52|\n|   tt0168358|          11|           51|\n|   tt0168358|          11|           50|\n|   tt0168358|          11|           49|\n|   tt0168358|          11|           48|\n|   tt0168358|          11|           47|\n|   tt0168358|          11|           46|\n+------------+------------+-------------+\nonly showing top 20 rows\n\n"
     ]
    }
   ],
   "source": [
    "tmp1 = title_episodes_df.filter(F.col('parentTconst') == 'tt0168358').sort('parentTconst', F.col('seasonNumber').desc(), F.col('episodeNumber').desc())\n",
    "tmp1.show()\n"
   ]
  },
  {
   "cell_type": "code",
   "execution_count": 89,
   "metadata": {},
   "outputs": [],
   "source": [
    "def process_episodes(title_episodes_df, parent_tconst):\n",
    "    tmp = title_episodes_df.filter(F.col('parentTconst') == parent_tconst).sort('parentTconst', F.col('seasonNumber').desc(), F.col('episodeNumber').desc())\n",
    "    season = tmp.collect()[0][1]  # check if season is a number or null\n",
    "\n",
    "    output = []\n",
    "    schema = StructType([\n",
    "        StructField(\"parent_tconst\", StringType(), False), \n",
    "        StructField(\"season\", ShortType()), \n",
    "        StructField(\"total_episodes\", ShortType())\n",
    "    ])\n",
    "\n",
    "    if season is None:  # if season is none, then episode = number of occurences\n",
    "        output.append((parent_tconst, season, tmp.count()))\n",
    "    else:\n",
    "        while True:\n",
    "            season = tmp.filter(F.col('seasonNumber') == season).collect()[0][1]\n",
    "            ep_count = tmp.filter(F.col('seasonNumber') == season).collect()[0][2]\n",
    "            output.append((parent_tconst, season, ep_count))\n",
    "\n",
    "            tmp = tmp.filter(F.col('seasonNumber') != season)  # drop the processed season number rows\n",
    "            if tmp.count() < 1:  # there is no more rows to process\n",
    "                break\n",
    "            season = tmp.collect()[0][1]\n",
    "    return spark.createDataFrame(data=output, schema=schema)"
   ]
  },
  {
   "cell_type": "code",
   "execution_count": 90,
   "metadata": {},
   "outputs": [],
   "source": [
    "schema = StructType([\n",
    "    StructField(\"parent_tconst\", StringType(), False), StructField(\"season\", ShortType()), StructField(\"total_episodes\", ShortType())\n",
    "])\n",
    "\n",
    "df_final = spark.createDataFrame([], schema)"
   ]
  },
  {
   "cell_type": "code",
   "execution_count": 91,
   "metadata": {},
   "outputs": [
    {
     "output_type": "error",
     "ename": "IndexError",
     "evalue": "list index out of range",
     "traceback": [
      "\u001b[0;31m---------------------------------------------------------------------------\u001b[0m",
      "\u001b[0;31mIndexError\u001b[0m                                Traceback (most recent call last)",
      "\u001b[0;32m<ipython-input-91-72648d35e45d>\u001b[0m in \u001b[0;36m<module>\u001b[0;34m\u001b[0m\n\u001b[1;32m      1\u001b[0m \u001b[0;32mfor\u001b[0m \u001b[0mtconst\u001b[0m \u001b[0;32min\u001b[0m \u001b[0mparentTconst_list\u001b[0m\u001b[0;34m:\u001b[0m\u001b[0;34m\u001b[0m\u001b[0;34m\u001b[0m\u001b[0m\n\u001b[0;32m----> 2\u001b[0;31m     \u001b[0meach_df\u001b[0m \u001b[0;34m=\u001b[0m \u001b[0mprocess_episodes\u001b[0m\u001b[0;34m(\u001b[0m\u001b[0mtitle_episodes_df\u001b[0m\u001b[0;34m,\u001b[0m \u001b[0mtconst\u001b[0m\u001b[0;34m)\u001b[0m\u001b[0;34m\u001b[0m\u001b[0;34m\u001b[0m\u001b[0m\n\u001b[0m\u001b[1;32m      3\u001b[0m     \u001b[0mdf_final\u001b[0m \u001b[0;34m=\u001b[0m \u001b[0mdf_final\u001b[0m\u001b[0;34m.\u001b[0m\u001b[0munion\u001b[0m\u001b[0;34m(\u001b[0m\u001b[0meach_df\u001b[0m\u001b[0;34m)\u001b[0m\u001b[0;34m\u001b[0m\u001b[0;34m\u001b[0m\u001b[0m\n",
      "\u001b[0;32m<ipython-input-89-12ca1010ca11>\u001b[0m in \u001b[0;36mprocess_episodes\u001b[0;34m(title_episodes_df, parent_tconst)\u001b[0m\n\u001b[1;32m     14\u001b[0m     \u001b[0;32melse\u001b[0m\u001b[0;34m:\u001b[0m\u001b[0;34m\u001b[0m\u001b[0;34m\u001b[0m\u001b[0m\n\u001b[1;32m     15\u001b[0m         \u001b[0;32mwhile\u001b[0m \u001b[0;32mTrue\u001b[0m\u001b[0;34m:\u001b[0m\u001b[0;34m\u001b[0m\u001b[0;34m\u001b[0m\u001b[0m\n\u001b[0;32m---> 16\u001b[0;31m             \u001b[0mseason\u001b[0m \u001b[0;34m=\u001b[0m \u001b[0mtmp\u001b[0m\u001b[0;34m.\u001b[0m\u001b[0mfilter\u001b[0m\u001b[0;34m(\u001b[0m\u001b[0mF\u001b[0m\u001b[0;34m.\u001b[0m\u001b[0mcol\u001b[0m\u001b[0;34m(\u001b[0m\u001b[0;34m'seasonNumber'\u001b[0m\u001b[0;34m)\u001b[0m \u001b[0;34m==\u001b[0m \u001b[0mseason\u001b[0m\u001b[0;34m)\u001b[0m\u001b[0;34m.\u001b[0m\u001b[0mcollect\u001b[0m\u001b[0;34m(\u001b[0m\u001b[0;34m)\u001b[0m\u001b[0;34m[\u001b[0m\u001b[0;36m0\u001b[0m\u001b[0;34m]\u001b[0m\u001b[0;34m[\u001b[0m\u001b[0;36m1\u001b[0m\u001b[0;34m]\u001b[0m\u001b[0;34m\u001b[0m\u001b[0;34m\u001b[0m\u001b[0m\n\u001b[0m\u001b[1;32m     17\u001b[0m             \u001b[0mep_count\u001b[0m \u001b[0;34m=\u001b[0m \u001b[0mtmp\u001b[0m\u001b[0;34m.\u001b[0m\u001b[0mfilter\u001b[0m\u001b[0;34m(\u001b[0m\u001b[0mF\u001b[0m\u001b[0;34m.\u001b[0m\u001b[0mcol\u001b[0m\u001b[0;34m(\u001b[0m\u001b[0;34m'seasonNumber'\u001b[0m\u001b[0;34m)\u001b[0m \u001b[0;34m==\u001b[0m \u001b[0mseason\u001b[0m\u001b[0;34m)\u001b[0m\u001b[0;34m.\u001b[0m\u001b[0mcollect\u001b[0m\u001b[0;34m(\u001b[0m\u001b[0;34m)\u001b[0m\u001b[0;34m[\u001b[0m\u001b[0;36m0\u001b[0m\u001b[0;34m]\u001b[0m\u001b[0;34m[\u001b[0m\u001b[0;36m2\u001b[0m\u001b[0;34m]\u001b[0m\u001b[0;34m\u001b[0m\u001b[0;34m\u001b[0m\u001b[0m\n\u001b[1;32m     18\u001b[0m             \u001b[0moutput\u001b[0m\u001b[0;34m.\u001b[0m\u001b[0mappend\u001b[0m\u001b[0;34m(\u001b[0m\u001b[0;34m(\u001b[0m\u001b[0mparent_tconst\u001b[0m\u001b[0;34m,\u001b[0m \u001b[0mseason\u001b[0m\u001b[0;34m,\u001b[0m \u001b[0mep_count\u001b[0m\u001b[0;34m)\u001b[0m\u001b[0;34m)\u001b[0m\u001b[0;34m\u001b[0m\u001b[0;34m\u001b[0m\u001b[0m\n",
      "\u001b[0;31mIndexError\u001b[0m: list index out of range"
     ]
    }
   ],
   "source": [
    "for tconst in parentTconst_list:\n",
    "    each_df = process_episodes(title_episodes_df, tconst)\n",
    "    df_final = df_final.union(each_df)"
   ]
  },
  {
   "cell_type": "code",
   "execution_count": null,
   "metadata": {},
   "outputs": [],
   "source": [
    "df_final.show()"
   ]
  },
  {
   "cell_type": "code",
   "execution_count": null,
   "metadata": {},
   "outputs": [],
   "source": []
  }
 ]
}