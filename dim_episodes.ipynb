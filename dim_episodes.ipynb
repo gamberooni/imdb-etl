{
 "metadata": {
  "language_info": {
   "codemirror_mode": {
    "name": "ipython",
    "version": 3
   },
   "file_extension": ".py",
   "mimetype": "text/x-python",
   "name": "python",
   "nbconvert_exporter": "python",
   "pygments_lexer": "ipython3",
   "version": "3.6.9"
  },
  "orig_nbformat": 2,
  "kernelspec": {
   "name": "python3",
   "display_name": "Python 3.6.9 64-bit ('venv': venv)",
   "metadata": {
    "interpreter": {
     "hash": "bf4611e601c174f023ee6d5ec1b694fc68b25a2a6a2cefb5ab3330490a5e6955"
    }
   }
  }
 },
 "nbformat": 4,
 "nbformat_minor": 2,
 "cells": [
  {
   "cell_type": "code",
   "execution_count": 19,
   "metadata": {},
   "outputs": [],
   "source": [
    "from pyspark.sql import SparkSession\n",
    "import pyspark.sql.functions as F\n",
    "from pyspark.sql.functions import when\n",
    "from pyspark.sql.types import StructType, StructField, ShortType, StringType\n",
    "import datetime\n",
    "import os\n",
    "\n",
    "master = \"spark://zy-ubuntu:7077\"  \n",
    "os.environ['PYSPARK_SUBMIT_ARGS'] = f'--master {master} --driver-memory 4g --total-executor-cores 8 --executor-memory 8g --packages org.postgresql:postgresql:42.1.1 pyspark-shell'"
   ]
  },
  {
   "cell_type": "code",
   "execution_count": 2,
   "metadata": {},
   "outputs": [],
   "source": [
    "spark = SparkSession.builder \\\n",
    "    .appName(\"dim episodes\") \\\n",
    "    .getOrCreate()"
   ]
  },
  {
   "cell_type": "code",
   "execution_count": 3,
   "metadata": {},
   "outputs": [
    {
     "output_type": "stream",
     "name": "stdout",
     "text": [
      "root\n |-- tconst: string (nullable = true)\n |-- parentTconst: string (nullable = true)\n |-- seasonNumber: string (nullable = true)\n |-- episodeNumber: string (nullable = true)\n\n"
     ]
    }
   ],
   "source": [
    "title_episodes_df = spark.read.csv(\"title.episode.tsv\", sep=r'\\t', header=True)\n",
    "title_episodes_df.printSchema()"
   ]
  },
  {
   "cell_type": "code",
   "execution_count": 4,
   "metadata": {},
   "outputs": [],
   "source": [
    "title_episodes_df = title_episodes_df.withColumn('seasonNumber', F.col('seasonNumber').cast(ShortType()))\n",
    "title_episodes_df = title_episodes_df.withColumn('episodeNumber', F.col('episodeNumber').cast(ShortType()))\n",
    "title_episodes_df = title_episodes_df.drop('tconst')\n",
    "# title_episodes_df = title_episodes_df.sort('parentTconst', F.col('seasonNumber').desc(), F.col('episodeNumber').desc())\n",
    "# title_episodes_df.show()"
   ]
  },
  {
   "cell_type": "code",
   "execution_count": 5,
   "metadata": {},
   "outputs": [
    {
     "output_type": "stream",
     "name": "stdout",
     "text": [
      "+---------+--------------+------+\n|   tconst|total_episodes|season|\n+---------+--------------+------+\n|tt2162303|             5|  null|\n|tt0094519|             1|  null|\n|tt8013750|             3|  null|\n|tt0350409|             5|  null|\n|tt0418369|             7|  null|\n|tt0466509|             2|  null|\n|tt0375323|             5|  null|\n|tt0295085|             4|  null|\n|tt0166438|             2|  null|\n|tt0381763|             3|  null|\n|tt0485524|            11|  null|\n|tt0239181|             1|  null|\n|tt0335728|             1|  null|\n|tt0168358|           160|  null|\n|tt0252778|             1|  null|\n|tt0400027|             2|  null|\n|tt0085100|            33|  null|\n|tt0397147|             2|  null|\n|tt0209792|             1|  null|\n|tt0787994|           927|  null|\n+---------+--------------+------+\nonly showing top 20 rows\n\n"
     ]
    }
   ],
   "source": [
    "null_df = title_episodes_df.filter(F.col(\"seasonNumber\").isNull() & F.col(\"episodeNumber\").isNull())\n",
    "null_df_final = null_df.groupBy('parentTconst').count()\n",
    "null_df_final = null_df_final.withColumn('season', F.lit(None)).withColumnRenamed('count', 'total_episodes').withColumnRenamed('parentTconst', 'tconst')\n",
    "null_df_final.show()"
   ]
  },
  {
   "cell_type": "code",
   "execution_count": 6,
   "metadata": {},
   "outputs": [
    {
     "output_type": "stream",
     "name": "stdout",
     "text": [
      "+---------+------+-------------+\n|   tconst|season|episode_count|\n+---------+------+-------------+\n|tt0032557|     1|           15|\n|tt0038276|     1|            1|\n|tt0039120|     1|            1|\n|tt0039122|     1|            9|\n|tt0039123|    11|           51|\n|tt0039123|    10|           53|\n|tt0039123|     9|           49|\n|tt0039123|     8|           52|\n|tt0039123|     7|           56|\n|tt0039123|     6|           47|\n|tt0039123|     5|           54|\n|tt0039123|     4|           50|\n|tt0039123|     3|           53|\n|tt0039123|     2|           52|\n|tt0039123|     1|           70|\n|tt0039124|     1|            1|\n|tt0039125|     1|           25|\n|tt0040021|     2|           30|\n|tt0040021|     1|           35|\n|tt0040022|     1|            1|\n+---------+------+-------------+\nonly showing top 20 rows\n\n"
     ]
    }
   ],
   "source": [
    "not_null_df = title_episodes_df.filter(F.col(\"seasonNumber\").isNotNull() & F.col(\"episodeNumber\").isNotNull())\n",
    "not_null_df_final = not_null_df.groupBy('parentTconst', 'seasonNumber').agg(F.max('episodeNumber').alias('episode_count'))\n",
    "not_null_df_final = not_null_df_final.sort('parentTconst', F.col('seasonNumber').desc(), F.col('episode_count').desc())\n",
    "not_null_df_final = not_null_df_final.withColumnRenamed('seasonNumber', 'season').withColumnRenamed('parentTconst', 'tconst')\n",
    "not_null_df_final.show()"
   ]
  },
  {
   "cell_type": "code",
   "execution_count": 7,
   "metadata": {},
   "outputs": [
    {
     "output_type": "stream",
     "name": "stdout",
     "text": [
      "+---------+--------------+------+\n|   tconst|total_episodes|season|\n+---------+--------------+------+\n|tt2162303|             5|  null|\n|tt0094519|             1|  null|\n|tt8013750|             3|  null|\n|tt0350409|             5|  null|\n|tt0418369|             7|  null|\n|tt0466509|             2|  null|\n|tt0375323|             5|  null|\n|tt0295085|             4|  null|\n|tt0166438|             2|  null|\n|tt0381763|             3|  null|\n|tt0485524|            11|  null|\n|tt0239181|             1|  null|\n|tt0335728|             1|  null|\n|tt0168358|           160|  null|\n|tt0252778|             1|  null|\n|tt0400027|             2|  null|\n|tt0085100|            33|  null|\n|tt0397147|             2|  null|\n|tt0209792|             1|  null|\n|tt0787994|           927|  null|\n+---------+--------------+------+\nonly showing top 20 rows\n\n"
     ]
    }
   ],
   "source": [
    "result_df = null_df_final.union(not_null_df_final)\n",
    "result_df.show()"
   ]
  },
  {
   "cell_type": "code",
   "execution_count": 8,
   "metadata": {},
   "outputs": [],
   "source": [
    "result_df.write.format('jdbc').options(\n",
    "      url='jdbc:postgresql://localhost:5433/imdb',\n",
    "      driver='org.postgresql.Driver',\n",
    "      dbtable='dim_episodes',\n",
    "      user='admin',\n",
    "      password='password'\n",
    "      ).mode('append').save()"
   ]
  },
  {
   "cell_type": "code",
   "execution_count": 20,
   "metadata": {},
   "outputs": [
    {
     "output_type": "stream",
     "name": "stdout",
     "text": [
      "+----+-----+---+\n|year|month|day|\n+----+-----+---+\n|2021|    6| 10|\n+----+-----+---+\n\n"
     ]
    }
   ],
   "source": [
    "# create a df with year, month, day with today's date\n",
    "now = datetime.datetime.now()\n",
    "\n",
    "data = [(now.year,now.month,now.day)]\n",
    "\n",
    "schema = StructType([ \\\n",
    "    StructField(\"year\",ShortType(),True), \\\n",
    "    StructField(\"month\",ShortType(),True), \\\n",
    "    StructField(\"day\",ShortType(),True), \\\n",
    "  ])\n",
    " \n",
    "dl_date_df = spark.createDataFrame(data=data,schema=schema)\n",
    "dl_date_df.show()"
   ]
  },
  {
   "cell_type": "code",
   "execution_count": 21,
   "metadata": {},
   "outputs": [],
   "source": [
    "# insert dataset download date into db\n",
    "dl_date_df.write.format('jdbc').options(\n",
    "      url='jdbc:postgresql://localhost:5433/imdb',\n",
    "      driver='org.postgresql.Driver',\n",
    "      dbtable='dim_download_date',\n",
    "      user='admin',\n",
    "      password='password'\n",
    "      ).mode('append').save()"
   ]
  },
  {
   "cell_type": "code",
   "execution_count": 24,
   "metadata": {},
   "outputs": [],
   "source": [
    "title_desc_pg_df = spark.read.format('jdbc').options(\n",
    "      url='jdbc:postgresql://localhost:5433/imdb',\n",
    "      driver='org.postgresql.Driver',\n",
    "      dbtable='dim_title_desc',\n",
    "      user='admin',\n",
    "      password='password'\n",
    "      ).load()\n",
    "\n",
    "title_desc_pg_df = title_desc_pg_df.withColumnRenamed('id', 'title_desc_id')"
   ]
  },
  {
   "cell_type": "code",
   "execution_count": 26,
   "metadata": {},
   "outputs": [],
   "source": [
    "fact_titles_df = title_desc_pg_df.select('title_desc_id')"
   ]
  },
  {
   "cell_type": "code",
   "execution_count": 27,
   "metadata": {},
   "outputs": [],
   "source": [
    "episodes_pg_df = spark.read.format('jdbc').options(\n",
    "      url='jdbc:postgresql://localhost:5433/imdb',\n",
    "      driver='org.postgresql.Driver',\n",
    "      dbtable='dim_episodes',\n",
    "      user='admin',\n",
    "      password='password'\n",
    "      ).load()\n",
    "      \n",
    "episodes_pg_df = episodes_pg_df.withColumnRenamed('id', 'episode_id')      "
   ]
  },
  {
   "cell_type": "code",
   "execution_count": 28,
   "metadata": {},
   "outputs": [],
   "source": [
    "desc_ep_joined_df = episodes_pg_df.join(title_desc_pg_df, ['tconst']).select('episode_id', 'title_desc_id')\n",
    "fact_titles_df = fact_titles_df.join(desc_ep_joined_df, ['title_desc_id'], how='full')"
   ]
  },
  {
   "cell_type": "code",
   "execution_count": 29,
   "metadata": {},
   "outputs": [],
   "source": [
    "dl_date_pg_df = spark.read.format('jdbc').options(\n",
    "      url='jdbc:postgresql://localhost:5433/imdb',\n",
    "      driver='org.postgresql.Driver',\n",
    "      dbtable='dim_download_date',\n",
    "      user='admin',\n",
    "      password='password'\n",
    "      ).load()"
   ]
  },
  {
   "cell_type": "code",
   "execution_count": 30,
   "metadata": {},
   "outputs": [],
   "source": [
    "now = datetime.datetime.now()\n",
    "\n",
    "df_date_id = dl_date_pg_df.filter(\n",
    "        (F.col('year') == now.year) & \n",
    "        (F.col('month') == now.month) &\n",
    "        (F.col('day') == now.day))\n",
    "        \n",
    "dl_date_id = df_date_id.select('id').collect()[0][0]\n",
    "fact_titles_df = fact_titles_df.withColumn('download_date_id', F.lit(dl_date_id))"
   ]
  },
  {
   "cell_type": "code",
   "execution_count": 31,
   "metadata": {},
   "outputs": [],
   "source": [
    "fact_titles_df.write.format('jdbc').options(\n",
    "      url='jdbc:postgresql://localhost:5433/imdb',\n",
    "      driver='org.postgresql.Driver',\n",
    "      dbtable='fact_titles',\n",
    "      user='admin',\n",
    "      password='password'\n",
    "      ).mode('append').save()"
   ]
  },
  {
   "cell_type": "code",
   "execution_count": null,
   "metadata": {},
   "outputs": [],
   "source": []
  }
 ]
}