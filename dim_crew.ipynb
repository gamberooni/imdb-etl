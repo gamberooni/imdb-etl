{
 "metadata": {
  "language_info": {
   "codemirror_mode": {
    "name": "ipython",
    "version": 3
   },
   "file_extension": ".py",
   "mimetype": "text/x-python",
   "name": "python",
   "nbconvert_exporter": "python",
   "pygments_lexer": "ipython3",
   "version": "3.6.9"
  },
  "orig_nbformat": 2,
  "kernelspec": {
   "name": "python3",
   "display_name": "Python 3.6.9  ('venv': venv)",
   "metadata": {
    "interpreter": {
     "hash": "bf4611e601c174f023ee6d5ec1b694fc68b25a2a6a2cefb5ab3330490a5e6955"
    }
   }
  }
 },
 "nbformat": 4,
 "nbformat_minor": 2,
 "cells": [
  {
   "cell_type": "code",
   "execution_count": 4,
   "metadata": {},
   "outputs": [],
   "source": [
    "from pyspark.sql import SparkSession\n",
    "import pyspark.sql.functions as F\n",
    "from pyspark.sql.types import IntegerType\n",
    "import os\n",
    "\n",
    "master = \"spark://zy-ubuntu:7077\"  \n",
    "os.environ['PYSPARK_SUBMIT_ARGS'] = f'--master {master} --driver-memory 4g --total-executor-cores 6 --executor-memory 8g --packages org.postgresql:postgresql:42.1.1 pyspark-shell'"
   ]
  },
  {
   "cell_type": "code",
   "execution_count": 5,
   "metadata": {},
   "outputs": [],
   "source": [
    "spark = SparkSession.builder \\\n",
    "    .appName(\"title crew\") \\\n",
    "    .getOrCreate()\n",
    "\n",
    "# spark.sparkContext.getConf().getAll()"
   ]
  },
  {
   "cell_type": "code",
   "execution_count": 6,
   "metadata": {},
   "outputs": [
    {
     "output_type": "stream",
     "name": "stdout",
     "text": [
      "root\n |-- tconst: string (nullable = true)\n |-- ordering: string (nullable = true)\n |-- nconst: string (nullable = true)\n |-- category: string (nullable = true)\n |-- job: string (nullable = true)\n |-- characters: string (nullable = true)\n\n"
     ]
    }
   ],
   "source": [
    "title_principals_df = spark.read.csv(\"title.principals.tsv\", sep=r'\\t', header=True)\n",
    "title_principals_df.printSchema()"
   ]
  },
  {
   "cell_type": "code",
   "execution_count": 7,
   "metadata": {},
   "outputs": [
    {
     "output_type": "stream",
     "name": "stdout",
     "text": [
      "+---------+--------+---------+---------------+--------------------+--------------+\n|   tconst|ordering|   nconst|       category|                 job|    characters|\n+---------+--------+---------+---------------+--------------------+--------------+\n|tt0000001|       1|nm1588970|           self|                  \\N|      [\"Self\"]|\n|tt0000001|       2|nm0005690|       director|                  \\N|            \\N|\n|tt0000001|       3|nm0374658|cinematographer|director of photo...|            \\N|\n|tt0000002|       1|nm0721526|       director|                  \\N|            \\N|\n|tt0000002|       2|nm1335271|       composer|                  \\N|            \\N|\n|tt0000003|       1|nm0721526|       director|                  \\N|            \\N|\n|tt0000003|       2|nm1770680|       producer|            producer|            \\N|\n|tt0000003|       3|nm1335271|       composer|                  \\N|            \\N|\n|tt0000003|       4|nm5442200|         editor|                  \\N|            \\N|\n|tt0000004|       1|nm0721526|       director|                  \\N|            \\N|\n|tt0000004|       2|nm1335271|       composer|                  \\N|            \\N|\n|tt0000005|       1|nm0443482|          actor|                  \\N|[\"Blacksmith\"]|\n|tt0000005|       2|nm0653042|          actor|                  \\N| [\"Assistant\"]|\n|tt0000005|       3|nm0005690|       director|                  \\N|            \\N|\n|tt0000005|       4|nm0249379|       producer|            producer|            \\N|\n|tt0000006|       1|nm0005690|       director|                  \\N|            \\N|\n|tt0000007|       1|nm0179163|          actor|                  \\N|            \\N|\n|tt0000007|       2|nm0183947|          actor|                  \\N|            \\N|\n|tt0000007|       3|nm0005690|       director|                  \\N|            \\N|\n|tt0000007|       4|nm0374658|       director|                  \\N|            \\N|\n+---------+--------+---------+---------------+--------------------+--------------+\nonly showing top 20 rows\n\n"
     ]
    }
   ],
   "source": [
    "title_principals_df.show()"
   ]
  },
  {
   "cell_type": "code",
   "execution_count": 23,
   "metadata": {},
   "outputs": [
    {
     "output_type": "stream",
     "name": "stdout",
     "text": [
      "+-------------------+\n|               role|\n+-------------------+\n|           producer|\n|             writer|\n|           composer|\n|           director|\n|             editor|\n|    cinematographer|\n|      archive_sound|\n|production_designer|\n|    archive_footage|\n+-------------------+\n\n+---------+---------+---------------+\n|   tconst|   nconst|           role|\n+---------+---------+---------------+\n|tt0000001|nm0005690|       director|\n|tt0000001|nm0374658|cinematographer|\n|tt0000002|nm0721526|       director|\n|tt0000002|nm1335271|       composer|\n|tt0000003|nm0721526|       director|\n|tt0000003|nm1770680|       producer|\n|tt0000003|nm1335271|       composer|\n|tt0000003|nm5442200|         editor|\n|tt0000004|nm0721526|       director|\n|tt0000004|nm1335271|       composer|\n|tt0000005|nm0005690|       director|\n|tt0000005|nm0249379|       producer|\n|tt0000006|nm0005690|       director|\n|tt0000007|nm0005690|       director|\n|tt0000007|nm0374658|       director|\n|tt0000007|nm0249379|       producer|\n|tt0000008|nm0005690|       director|\n|tt0000008|nm0374658|cinematographer|\n|tt0000009|nm0085156|       director|\n|tt0000010|nm0525910|       director|\n+---------+---------+---------------+\nonly showing top 20 rows\n\n"
     ]
    }
   ],
   "source": [
    "title_crew_df = title_principals_df.filter(\n",
    "        (F.col('category') != 'self') &\n",
    "        (F.col('category') != 'actor') & \n",
    "        (F.col('category') != 'actress'))\n",
    "\n",
    "title_crew_df = title_crew_df.drop('job').drop('characters').drop('ordering')\n",
    "title_crew_df = title_crew_df.withColumnRenamed('category', 'role')\n",
    "title_crew_df.select('role').distinct().show()     \n",
    "\n",
    "title_crew_df.show()"
   ]
  },
  {
   "cell_type": "code",
   "execution_count": 21,
   "metadata": {},
   "outputs": [],
   "source": [
    "# read tsv file into df\n",
    "name_basics_df = spark.read.csv(\"name.basics.tsv\", sep=r'\\t', header=True)\n",
    "\n",
    "# rename column\n",
    "name_basics_df = name_basics_df.withColumnRenamed('primaryName', 'name')\n",
    "\n",
    "# calculate age from birth year and death year\n",
    "name_basics_df = name_basics_df.withColumn('age', ( F.col('deathYear').cast(IntegerType()) - F.col('birthYear').cast(IntegerType()) ))\n",
    "\n",
    "# create is_alive column based on conditions\n",
    "is_alive_col = F.when(\n",
    "    (F.col(\"birthYear\") != '\\\\N') & (F.col(\"deathYear\") != '\\\\N'), False\n",
    ").when((F.col(\"birthYear\") != '\\\\N') & (F.col(\"deathYear\") == '\\\\N'), True).otherwise(None)\n",
    "\n",
    "name_basics_df = name_basics_df.withColumn('is_alive', is_alive_col)\n",
    "\n",
    "# drop unused columns\n",
    "name_basics_df_dropped = name_basics_df.drop('primaryProfession', 'knownForTitles', 'birthYear', 'deathYear')"
   ]
  },
  {
   "cell_type": "code",
   "execution_count": 24,
   "metadata": {},
   "outputs": [
    {
     "output_type": "stream",
     "name": "stdout",
     "text": [
      "+---------+----------+---------------+--------------+---+--------+\n|   nconst|    tconst|           role|          name|age|is_alive|\n+---------+----------+---------------+--------------+---+--------+\n|nm0000086| tt0741798|archive_footage|Louis de Funès| 69|   false|\n|nm0000086| tt0804908|archive_footage|Louis de Funès| 69|   false|\n|nm0000086| tt1032923|archive_footage|Louis de Funès| 69|   false|\n|nm0000086|tt10424852|archive_footage|Louis de Funès| 69|   false|\n|nm0000086|tt10883038|archive_footage|Louis de Funès| 69|   false|\n|nm0000086|tt11739456|archive_footage|Louis de Funès| 69|   false|\n|nm0000086|tt11935190|archive_footage|Louis de Funès| 69|   false|\n|nm0000086|tt12069126|archive_footage|Louis de Funès| 69|   false|\n|nm0000086|tt12141344|archive_footage|Louis de Funès| 69|   false|\n|nm0000086|tt12206554|archive_footage|Louis de Funès| 69|   false|\n|nm0000086|tt12600988|archive_footage|Louis de Funès| 69|   false|\n|nm0000086|tt12808176|archive_footage|Louis de Funès| 69|   false|\n|nm0000086|tt13334842|archive_footage|Louis de Funès| 69|   false|\n|nm0000086|tt13424222|archive_footage|Louis de Funès| 69|   false|\n|nm0000086|tt13582632|archive_footage|Louis de Funès| 69|   false|\n|nm0000086| tt1385795|archive_footage|Louis de Funès| 69|   false|\n|nm0000086| tt1386635|archive_footage|Louis de Funès| 69|   false|\n|nm0000086|tt13873264|archive_footage|Louis de Funès| 69|   false|\n|nm0000086|tt14743472|archive_footage|Louis de Funès| 69|   false|\n|nm0000086|tt14755194|archive_footage|Louis de Funès| 69|   false|\n+---------+----------+---------------+--------------+---+--------+\nonly showing top 20 rows\n\n"
     ]
    }
   ],
   "source": [
    "df_crew = title_crew_df.join(name_basics_df_dropped, ['nconst'])\n",
    "df_crew.show()"
   ]
  },
  {
   "cell_type": "code",
   "execution_count": 26,
   "metadata": {},
   "outputs": [],
   "source": [
    "df_crew.write.format('jdbc').options(\n",
    "      url='jdbc:postgresql://localhost:5433/imdb',\n",
    "      driver='org.postgresql.Driver',\n",
    "      dbtable='dim_crew',\n",
    "      user='admin',\n",
    "      password='password'\n",
    "      ).mode('append').save()"
   ]
  },
  {
   "cell_type": "code",
   "execution_count": null,
   "metadata": {},
   "outputs": [],
   "source": []
  }
 ]
}