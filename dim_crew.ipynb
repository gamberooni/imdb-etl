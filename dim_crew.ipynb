{
 "metadata": {
  "language_info": {
   "codemirror_mode": {
    "name": "ipython",
    "version": 3
   },
   "file_extension": ".py",
   "mimetype": "text/x-python",
   "name": "python",
   "nbconvert_exporter": "python",
   "pygments_lexer": "ipython3",
   "version": "3.6.9"
  },
  "orig_nbformat": 2,
  "kernelspec": {
   "name": "python3",
   "display_name": "Python 3.6.9 64-bit ('venv': venv)",
   "metadata": {
    "interpreter": {
     "hash": "bf4611e601c174f023ee6d5ec1b694fc68b25a2a6a2cefb5ab3330490a5e6955"
    }
   }
  }
 },
 "nbformat": 4,
 "nbformat_minor": 2,
 "cells": [
  {
   "cell_type": "code",
   "execution_count": 9,
   "metadata": {},
   "outputs": [],
   "source": [
    "from pyspark.sql import SparkSession\n",
    "import pyspark.sql.functions as F\n",
    "from pyspark.sql.functions import when\n",
    "from pyspark.sql.types import IntegerType\n",
    "import datetime\n",
    "import os\n",
    "\n",
    "master = \"spark://zy-ubuntu:7077\"  \n",
    "os.environ['PYSPARK_SUBMIT_ARGS'] = f'--master {master} --driver-memory 4g --total-executor-cores 8 --executor-memory 8g --packages org.postgresql:postgresql:42.1.1 pyspark-shell'"
   ]
  },
  {
   "cell_type": "code",
   "execution_count": 2,
   "metadata": {},
   "outputs": [],
   "source": [
    "spark = SparkSession.builder \\\n",
    "    .appName(\"title crew\") \\\n",
    "    .getOrCreate()\n",
    "\n",
    "# spark.sparkContext.getConf().getAll()"
   ]
  },
  {
   "cell_type": "code",
   "execution_count": 3,
   "metadata": {},
   "outputs": [
    {
     "output_type": "stream",
     "name": "stdout",
     "text": [
      "root\n |-- tconst: string (nullable = true)\n |-- ordering: string (nullable = true)\n |-- nconst: string (nullable = true)\n |-- category: string (nullable = true)\n |-- job: string (nullable = true)\n |-- characters: string (nullable = true)\n\n"
     ]
    }
   ],
   "source": [
    "title_principals_df = spark.read.csv(\"title.principals.tsv\", sep=r'\\t', header=True)\n",
    "title_principals_df.printSchema()"
   ]
  },
  {
   "cell_type": "code",
   "execution_count": 4,
   "metadata": {},
   "outputs": [
    {
     "output_type": "stream",
     "name": "stdout",
     "text": [
      "+---------+--------+---------+---------------+--------------------+--------------+\n|   tconst|ordering|   nconst|       category|                 job|    characters|\n+---------+--------+---------+---------------+--------------------+--------------+\n|tt0000001|       1|nm1588970|           self|                  \\N|      [\"Self\"]|\n|tt0000001|       2|nm0005690|       director|                  \\N|            \\N|\n|tt0000001|       3|nm0374658|cinematographer|director of photo...|            \\N|\n|tt0000002|       1|nm0721526|       director|                  \\N|            \\N|\n|tt0000002|       2|nm1335271|       composer|                  \\N|            \\N|\n|tt0000003|       1|nm0721526|       director|                  \\N|            \\N|\n|tt0000003|       2|nm1770680|       producer|            producer|            \\N|\n|tt0000003|       3|nm1335271|       composer|                  \\N|            \\N|\n|tt0000003|       4|nm5442200|         editor|                  \\N|            \\N|\n|tt0000004|       1|nm0721526|       director|                  \\N|            \\N|\n|tt0000004|       2|nm1335271|       composer|                  \\N|            \\N|\n|tt0000005|       1|nm0443482|          actor|                  \\N|[\"Blacksmith\"]|\n|tt0000005|       2|nm0653042|          actor|                  \\N| [\"Assistant\"]|\n|tt0000005|       3|nm0005690|       director|                  \\N|            \\N|\n|tt0000005|       4|nm0249379|       producer|            producer|            \\N|\n|tt0000006|       1|nm0005690|       director|                  \\N|            \\N|\n|tt0000007|       1|nm0179163|          actor|                  \\N|            \\N|\n|tt0000007|       2|nm0183947|          actor|                  \\N|            \\N|\n|tt0000007|       3|nm0005690|       director|                  \\N|            \\N|\n|tt0000007|       4|nm0374658|       director|                  \\N|            \\N|\n+---------+--------+---------+---------------+--------------------+--------------+\nonly showing top 20 rows\n\n"
     ]
    }
   ],
   "source": [
    "title_principals_df.show()"
   ]
  },
  {
   "cell_type": "code",
   "execution_count": 5,
   "metadata": {},
   "outputs": [
    {
     "output_type": "stream",
     "name": "stdout",
     "text": [
      "+-------------------+\n",
      "|               role|\n",
      "+-------------------+\n",
      "|           producer|\n",
      "|             writer|\n",
      "|           composer|\n",
      "|           director|\n",
      "|             editor|\n",
      "|    cinematographer|\n",
      "|      archive_sound|\n",
      "|production_designer|\n",
      "|    archive_footage|\n",
      "+-------------------+\n",
      "\n",
      "+---------+---------+---------------+\n",
      "|   tconst|   nconst|           role|\n",
      "+---------+---------+---------------+\n",
      "|tt0000001|nm0005690|       director|\n",
      "|tt0000001|nm0374658|cinematographer|\n",
      "|tt0000002|nm0721526|       director|\n",
      "|tt0000002|nm1335271|       composer|\n",
      "|tt0000003|nm0721526|       director|\n",
      "|tt0000003|nm1770680|       producer|\n",
      "|tt0000003|nm1335271|       composer|\n",
      "|tt0000003|nm5442200|         editor|\n",
      "|tt0000004|nm0721526|       director|\n",
      "|tt0000004|nm1335271|       composer|\n",
      "|tt0000005|nm0005690|       director|\n",
      "|tt0000005|nm0249379|       producer|\n",
      "|tt0000006|nm0005690|       director|\n",
      "|tt0000007|nm0005690|       director|\n",
      "|tt0000007|nm0374658|       director|\n",
      "|tt0000007|nm0249379|       producer|\n",
      "|tt0000008|nm0005690|       director|\n",
      "|tt0000008|nm0374658|cinematographer|\n",
      "|tt0000009|nm0085156|       director|\n",
      "|tt0000010|nm0525910|       director|\n",
      "+---------+---------+---------------+\n",
      "only showing top 20 rows\n",
      "\n"
     ]
    }
   ],
   "source": [
    "title_crew_df = title_principals_df.filter(\n",
    "        (F.col('category') != 'self') &\n",
    "        (F.col('category') != 'actor') & \n",
    "        (F.col('category') != 'actress'))\n",
    "\n",
    "title_crew_df = title_crew_df.drop('job').drop('characters').drop('ordering')\n",
    "title_crew_df = title_crew_df.withColumnRenamed('category', 'role')\n",
    "title_crew_df.select('role').distinct().show()     \n",
    "\n",
    "title_crew_df.show()"
   ]
  },
  {
   "cell_type": "code",
   "execution_count": 10,
   "metadata": {},
   "outputs": [],
   "source": [
    "# read tsv file into df\n",
    "name_basics_df = spark.read.csv(\"name.basics.tsv\", sep=r'\\t', header=True)\n",
    "\n",
    "# rename column\n",
    "name_basics_df = name_basics_df.withColumnRenamed('primaryName', 'name')\n",
    "\n",
    "# calculate age from birth year and death year\n",
    "name_basics_df = name_basics_df.withColumn(\"age\", when((F.col(\"birthYear\") != '\\\\N') & (F.col(\"deathYear\") != '\\\\N'), (F.col('deathYear').cast(IntegerType()) - F.col('birthYear').cast(IntegerType()))).when((F.col(\"birthYear\") != '\\\\N') & (F.col(\"deathYear\") == '\\\\N'), (datetime.datetime.now().year - F.col('birthYear')).cast(IntegerType())).otherwise(None))\n",
    "\n",
    "# create is_alive column based on conditions\n",
    "is_alive_col = F.when(\n",
    "    (F.col(\"birthYear\") != '\\\\N') & (F.col(\"deathYear\") != '\\\\N'), False\n",
    ").when((F.col(\"birthYear\") != '\\\\N') & (F.col(\"deathYear\") == '\\\\N'), True).otherwise(None)\n",
    "\n",
    "name_basics_df = name_basics_df.withColumn('is_alive', is_alive_col)\n",
    "\n",
    "# drop unused columns\n",
    "name_basics_df_dropped = name_basics_df.drop('primaryProfession', 'knownForTitles', 'birthYear', 'deathYear')"
   ]
  },
  {
   "cell_type": "code",
   "execution_count": 11,
   "metadata": {},
   "outputs": [],
   "source": [
    "df_crew = title_crew_df.join(name_basics_df_dropped, ['nconst'])\n",
    "# df_crew.show()"
   ]
  },
  {
   "cell_type": "code",
   "execution_count": 12,
   "metadata": {},
   "outputs": [],
   "source": [
    "df_upload = df_crew.drop('tconst').drop('role').drop_duplicates(['nconst'])"
   ]
  },
  {
   "cell_type": "code",
   "execution_count": 13,
   "metadata": {},
   "outputs": [],
   "source": [
    "df_upload.write.format('jdbc').options(\n",
    "      url='jdbc:postgresql://localhost:5433/imdb',\n",
    "      driver='org.postgresql.Driver',\n",
    "      dbtable='dim_crew',\n",
    "      user='admin',\n",
    "      password='password'\n",
    "      ).mode('append').save()"
   ]
  },
  {
   "cell_type": "code",
   "execution_count": 14,
   "metadata": {},
   "outputs": [],
   "source": [
    "title_desc_df = spark.read.format('jdbc').options(\n",
    "      url='jdbc:postgresql://localhost:5433/imdb',\n",
    "      driver='org.postgresql.Driver',\n",
    "      dbtable='dim_title_desc',\n",
    "      user='admin',\n",
    "      password='password'\n",
    "      ).load()"
   ]
  },
  {
   "cell_type": "code",
   "execution_count": 15,
   "metadata": {},
   "outputs": [],
   "source": [
    "title_desc_id_df = title_desc_df.select('id', 'tconst')\n",
    "title_desc_id_df = title_desc_id_df.withColumnRenamed('id', 'title_id')\n",
    "# title_desc_id_df.show()"
   ]
  },
  {
   "cell_type": "code",
   "execution_count": 16,
   "metadata": {},
   "outputs": [
    {
     "output_type": "stream",
     "name": "stdout",
     "text": [
      "root\n |-- id: integer (nullable = true)\n |-- name: string (nullable = true)\n |-- age: short (nullable = true)\n |-- is_alive: boolean (nullable = true)\n |-- nconst: string (nullable = true)\n\n"
     ]
    }
   ],
   "source": [
    "crew_from_pg_df = spark.read.format('jdbc').options(\n",
    "      url='jdbc:postgresql://localhost:5433/imdb',\n",
    "      driver='org.postgresql.Driver',\n",
    "      dbtable='dim_crew',\n",
    "      user='admin',\n",
    "      password='password'\n",
    "      ).load()\n",
    "crew_from_pg_df.printSchema()"
   ]
  },
  {
   "cell_type": "code",
   "execution_count": 17,
   "metadata": {},
   "outputs": [
    {
     "output_type": "stream",
     "name": "stdout",
     "text": [
      "root\n |-- nconst: string (nullable = true)\n |-- tconst: string (nullable = true)\n |-- role: string (nullable = true)\n |-- name: string (nullable = true)\n |-- age: integer (nullable = true)\n |-- is_alive: boolean (nullable = true)\n\nroot\n |-- title_id: integer (nullable = true)\n |-- tconst: string (nullable = true)\n\n"
     ]
    }
   ],
   "source": [
    "df_crew.printSchema()\n",
    "title_desc_id_df.printSchema()"
   ]
  },
  {
   "cell_type": "code",
   "execution_count": 18,
   "metadata": {},
   "outputs": [],
   "source": [
    "crew_id_df = crew_from_pg_df.select('id', 'nconst')\n",
    "crew_id_df = crew_id_df.withColumnRenamed('id', 'crew_id')"
   ]
  },
  {
   "cell_type": "code",
   "execution_count": 19,
   "metadata": {},
   "outputs": [],
   "source": [
    "df_crew_composite_table = df_crew.select('nconst', 'tconst', 'role')"
   ]
  },
  {
   "cell_type": "code",
   "execution_count": 20,
   "metadata": {},
   "outputs": [],
   "source": [
    "df_tmp = crew_id_df.join(df_crew_composite_table, ['nconst'])"
   ]
  },
  {
   "cell_type": "code",
   "execution_count": 21,
   "metadata": {},
   "outputs": [
    {
     "output_type": "stream",
     "name": "stdout",
     "text": [
      "+-------+---------------+--------+\n|crew_id|           role|title_id|\n+-------+---------------+--------+\n| 685834|       director|     376|\n| 617182|       producer|     382|\n| 753608|       director|     382|\n|  74791|cinematographer|     386|\n|1359300|       director|     386|\n|1629630|         writer|     386|\n|  74791|cinematographer|     391|\n| 753915|         writer|     391|\n|1359300|       director|     391|\n| 581914|       director|     394|\n| 906745|         writer|     394|\n| 918753|         writer|     394|\n|1696460|cinematographer|     394|\n|1056753|       director|     780|\n|1333707|cinematographer|     780|\n|1576956|       producer|     780|\n|1696123|         writer|     780|\n| 593128|cinematographer|     781|\n|  82887|cinematographer|     784|\n| 152197|         writer|     784|\n+-------+---------------+--------+\nonly showing top 20 rows\n\n"
     ]
    }
   ],
   "source": [
    "df_titles_crew = df_tmp.join(title_desc_id_df, ['tconst'])\n",
    "df_titles_crew = df_titles_crew.drop('nconst').drop('tconst')\n",
    "df_titles_crew.show()"
   ]
  },
  {
   "cell_type": "code",
   "execution_count": 22,
   "metadata": {},
   "outputs": [
    {
     "output_type": "execute_result",
     "data": {
      "text/plain": [
       "4667376"
      ]
     },
     "metadata": {},
     "execution_count": 22
    }
   ],
   "source": [
    "df_titles_crew.count()"
   ]
  },
  {
   "cell_type": "code",
   "execution_count": 23,
   "metadata": {},
   "outputs": [],
   "source": [
    "df_titles_crew.write.format('jdbc').options(\n",
    "      url='jdbc:postgresql://localhost:5433/imdb',\n",
    "      driver='org.postgresql.Driver',\n",
    "      dbtable='titles_crew',\n",
    "      user='admin',\n",
    "      password='password'\n",
    "      ).mode('append').save()"
   ]
  },
  {
   "cell_type": "code",
   "execution_count": null,
   "metadata": {},
   "outputs": [],
   "source": []
  }
 ]
}