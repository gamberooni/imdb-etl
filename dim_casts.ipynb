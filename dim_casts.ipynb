{
 "metadata": {
  "language_info": {
   "codemirror_mode": {
    "name": "ipython",
    "version": 3
   },
   "file_extension": ".py",
   "mimetype": "text/x-python",
   "name": "python",
   "nbconvert_exporter": "python",
   "pygments_lexer": "ipython3",
   "version": "3.6.9"
  },
  "orig_nbformat": 2,
  "kernelspec": {
   "name": "python3",
   "display_name": "Python 3",
   "language": "python"
  }
 },
 "nbformat": 4,
 "nbformat_minor": 2,
 "cells": [
  {
   "cell_type": "code",
   "execution_count": 1,
   "metadata": {},
   "outputs": [],
   "source": [
    "from pyspark.sql import SparkSession\n",
    "import pyspark.sql.functions as F\n",
    "from pyspark.sql.types import StructType, StructField, IntegerType\n",
    "import datetime\n",
    "import os\n",
    "\n",
    "master = \"spark://zy-ubuntu:7077\"  \n",
    "os.environ['PYSPARK_SUBMIT_ARGS'] = f'--master {master} --driver-memory 4g --total-executor-cores 6 --executor-memory 8g --packages org.postgresql:postgresql:42.1.1 pyspark-shell'"
   ]
  },
  {
   "cell_type": "code",
   "execution_count": 2,
   "metadata": {},
   "outputs": [],
   "source": [
    "spark = SparkSession.builder \\\n",
    "    .appName(\"title principals\") \\\n",
    "    .getOrCreate()"
   ]
  },
  {
   "cell_type": "code",
   "execution_count": 8,
   "metadata": {},
   "outputs": [
    {
     "output_type": "stream",
     "name": "stdout",
     "text": [
      "root\n |-- tconst: string (nullable = true)\n |-- ordering: string (nullable = true)\n |-- nconst: string (nullable = true)\n |-- category: string (nullable = true)\n |-- job: string (nullable = true)\n |-- characters: string (nullable = true)\n\n"
     ]
    }
   ],
   "source": [
    "title_principals_df = spark.read.csv(\"title.principals.tsv\", sep=r'\\t', header=True)\n",
    "title_principals_df.printSchema()"
   ]
  },
  {
   "cell_type": "code",
   "execution_count": 9,
   "metadata": {},
   "outputs": [
    {
     "output_type": "stream",
     "name": "stdout",
     "text": [
      "+---------+---------+--------------------------------------------------------------+\n|tconst   |nconst   |character                                                     |\n+---------+---------+--------------------------------------------------------------+\n|tt0000001|nm1588970|Self                                                          |\n|tt0000005|nm0443482|Blacksmith                                                    |\n|tt0000005|nm0653042|Assistant                                                     |\n|tt0000007|nm0179163|\\N                                                            |\n|tt0000007|nm0183947|\\N                                                            |\n|tt0000008|nm0653028|Sneezing Man                                                  |\n|tt0000009|nm0063086|Miss Geraldine Holbrook (Miss Jerry)                          |\n|tt0000009|nm0183823|Mr. Hamilton                                                  |\n|tt0000009|nm1309758|Chauncey Depew - the Director of the New York Central Railroad|\n|tt0000011|nm3692297|Acrobats                                                      |\n|tt0000012|nm2880396|Self                                                          |\n|tt0000012|nm9735580|Self                                                          |\n|tt0000012|nm0525900|Self                                                          |\n|tt0000012|nm9735581|Self                                                          |\n|tt0000012|nm9735579|Self                                                          |\n|tt0000012|nm9653419|Self                                                          |\n|tt0000013|nm0525908|Self                                                          |\n|tt0000013|nm1715062|Self                                                          |\n|tt0000014|nm0166380|The Gardener                                                  |\n|tt0000014|nm0244989|The Boy                                                       |\n+---------+---------+--------------------------------------------------------------+\nonly showing top 20 rows\n\n"
     ]
    }
   ],
   "source": [
    "title_principals_df = title_principals_df.drop('ordering').drop('job').drop('category')\n",
    "\n",
    "title_principals_df = title_principals_df.withColumn(\"characters\", F.regexp_replace(F.col(\"characters\"), '[\\[\\]\\\"]', \"\").alias(\"replaced\"))\n",
    "title_principals_df = title_principals_df.withColumn('characters', F.explode(F.split('characters', ',')))\n",
    "title_principals_df = title_principals_df.withColumnRenamed('characters', 'character')\n",
    "title_casts_df = title_principals_df.filter(\n",
    "        (F.col('category') == 'self') | \n",
    "        (F.col('category') == 'actor') | \n",
    "        (F.col('category') == 'actress'))\n",
    "title_casts_df.show(truncate=False)   "
   ]
  },
  {
   "cell_type": "code",
   "execution_count": 10,
   "metadata": {},
   "outputs": [],
   "source": [
    "# read tsv file into df\n",
    "name_basics_df = spark.read.csv(\"name.basics.tsv\", sep=r'\\t', header=True)\n",
    "\n",
    "# rename column\n",
    "name_basics_df = name_basics_df.withColumnRenamed('primaryName', 'name')\n",
    "\n",
    "# calculate age from birth year and death year\n",
    "name_basics_df = name_basics_df.withColumn('age', ( F.col('deathYear').cast(IntegerType()) - F.col('birthYear').cast(IntegerType()) ))\n",
    "\n",
    "# create is_alive column based on conditions\n",
    "is_alive_col = F.when(\n",
    "    (F.col(\"birthYear\") != '\\\\N') & (F.col(\"deathYear\") != '\\\\N'), False\n",
    ").when((F.col(\"birthYear\") != '\\\\N') & (F.col(\"deathYear\") == '\\\\N'), True).otherwise(None)\n",
    "\n",
    "name_basics_df = name_basics_df.withColumn('is_alive', is_alive_col)\n",
    "\n",
    "# drop unused columns\n",
    "name_basics_df_dropped = name_basics_df.drop('primaryProfession', 'knownForTitles', 'birthYear', 'deathYear')"
   ]
  },
  {
   "cell_type": "code",
   "execution_count": 18,
   "metadata": {},
   "outputs": [
    {
     "output_type": "stream",
     "name": "stdout",
     "text": [
      "+---------+---------+--------------------+--------------+---+--------+\n|   nconst|   tconst|           character|          name|age|is_alive|\n+---------+---------+--------------------+--------------+---+--------+\n|nm0000086|tt0043398|                null|Louis de Funès| 69|   false|\n|nm0000086|tt0043691|    Piotr Petrovitch|Louis de Funès| 69|   false|\n|nm0000086|tt0045293|               Emile|Louis de Funès| 69|   false|\n|nm0000086|tt0045293| le valet de chambre|Louis de Funès| 69|   false|\n|nm0000086|tt0046243|       Le professeur|Louis de Funès| 69|   false|\n|nm0000086|tt0046453|        Eddy Gorlier|Louis de Funès| 69|   false|\n|nm0000086|tt0047462|          Boulingrin|Louis de Funès| 69|   false|\n|nm0000086|tt0048994|Célestin Ratier -...|Louis de Funès| 69|   false|\n|nm0000086|tt0049877|             Jambier|Louis de Funès| 69|   false|\n|nm0000086|tt0049877|           l'épicier|Louis de Funès| 69|   false|\n|nm0000086|tt0050260|       Pierre Cousin|Louis de Funès| 69|   false|\n|nm0000086|tt0051989|            Blaireau|Louis de Funès| 69|   false|\n|nm0000086|tt0052276|      Maurice Berger|Louis de Funès| 69|   false|\n|nm0000086|tt0052686|        Ange Galopin|Louis de Funès| 69|   false|\n|nm0000086|tt0053076|            Védrines|Louis de Funès| 69|   false|\n|nm0000086|tt0053370|Prof. Francisco M...|Louis de Funès| 69|   false|\n|nm0000086|tt0053749|         Paul Ernzer|Louis de Funès| 69|   false|\n|nm0000086|tt0054394|        Émile Durand|Louis de Funès| 69|   false|\n|nm0000086|tt0055587|            Amoretti|Louis de Funès| 69|   false|\n|nm0000086|tt0056290|Ludovic Lamberjac...|Louis de Funès| 69|   false|\n+---------+---------+--------------------+--------------+---+--------+\nonly showing top 20 rows\n\n"
     ]
    }
   ],
   "source": [
    "df_casts = title_casts_df.join(name_basics_df_dropped, ['nconst'])\n",
    "df_casts = df_casts.withColumn('character', F.when(F.col('character') == '\\\\N', F.lit(None)).otherwise(F.col('character')))\n",
    "df_casts.show()"
   ]
  },
  {
   "cell_type": "code",
   "execution_count": 20,
   "metadata": {},
   "outputs": [],
   "source": [
    "# insert df into dim_casts table\n",
    "df_casts.write.format('jdbc').options(\n",
    "      url='jdbc:postgresql://localhost:5433/imdb',\n",
    "      driver='org.postgresql.Driver',\n",
    "      dbtable='dim_casts',\n",
    "      user='admin',\n",
    "      password='password'\n",
    "      ).mode('append').save()"
   ]
  },
  {
   "cell_type": "code",
   "execution_count": null,
   "metadata": {},
   "outputs": [],
   "source": []
  }
 ]
}