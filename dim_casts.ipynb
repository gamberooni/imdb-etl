{
 "metadata": {
  "language_info": {
   "codemirror_mode": {
    "name": "ipython",
    "version": 3
   },
   "file_extension": ".py",
   "mimetype": "text/x-python",
   "name": "python",
   "nbconvert_exporter": "python",
   "pygments_lexer": "ipython3",
   "version": "3.6.9"
  },
  "orig_nbformat": 2,
  "kernelspec": {
   "name": "python3",
   "display_name": "Python 3",
   "language": "python"
  }
 },
 "nbformat": 4,
 "nbformat_minor": 2,
 "cells": [
  {
   "cell_type": "code",
   "execution_count": 1,
   "metadata": {},
   "outputs": [],
   "source": [
    "from pyspark.sql import SparkSession\n",
    "import pyspark.sql.functions as F\n",
    "from pyspark.sql.functions import when\n",
    "from pyspark.sql.types import StructType, StructField, IntegerType\n",
    "import datetime\n",
    "import os\n",
    "\n",
    "master = \"spark://zy-ubuntu:7077\"  \n",
    "os.environ['PYSPARK_SUBMIT_ARGS'] = f'--master {master} --driver-memory 4g --total-executor-cores 8 --executor-memory 8g --packages org.postgresql:postgresql:42.1.1 pyspark-shell'"
   ]
  },
  {
   "cell_type": "code",
   "execution_count": 2,
   "metadata": {},
   "outputs": [],
   "source": [
    "spark = SparkSession.builder \\\n",
    "    .appName(\"dim casts\") \\\n",
    "    .getOrCreate()"
   ]
  },
  {
   "cell_type": "code",
   "execution_count": 3,
   "metadata": {},
   "outputs": [
    {
     "output_type": "stream",
     "name": "stdout",
     "text": [
      "root\n |-- tconst: string (nullable = true)\n |-- ordering: string (nullable = true)\n |-- nconst: string (nullable = true)\n |-- category: string (nullable = true)\n |-- job: string (nullable = true)\n |-- characters: string (nullable = true)\n\n"
     ]
    }
   ],
   "source": [
    "title_principals_df = spark.read.csv(\"title.principals.tsv\", sep=r'\\t', header=True)\n",
    "title_principals_df.printSchema()"
   ]
  },
  {
   "cell_type": "code",
   "execution_count": 4,
   "metadata": {},
   "outputs": [],
   "source": [
    "title_principals_df = title_principals_df.drop('ordering').drop('job').drop('category')\n",
    "\n",
    "title_principals_df = title_principals_df.withColumn(\"characters\", F.regexp_replace(F.col(\"characters\"), '[\\[\\]\\\"]', \"\").alias(\"replaced\"))\n",
    "title_principals_df = title_principals_df.withColumn('characters', F.explode(F.split('characters', ',')))\n",
    "title_principals_df = title_principals_df.withColumnRenamed('characters', 'character')\n",
    "title_casts_df = title_principals_df.filter(\n",
    "        (F.col('category') == 'self') | \n",
    "        (F.col('category') == 'actor') | \n",
    "        (F.col('category') == 'actress'))\n",
    "# title_casts_df.show(truncate=False)   "
   ]
  },
  {
   "cell_type": "code",
   "execution_count": 5,
   "metadata": {},
   "outputs": [],
   "source": [
    "# read tsv file into df\n",
    "name_basics_df = spark.read.csv(\"name.basics.tsv\", sep=r'\\t', header=True)\n",
    "\n",
    "# rename column\n",
    "name_basics_df = name_basics_df.withColumnRenamed('primaryName', 'name')\n",
    "\n",
    "# calculate age from birth year and death year\n",
    "name_basics_df = name_basics_df.withColumn(\"age\", when((F.col(\"birthYear\") != '\\\\N') & (F.col(\"deathYear\") != '\\\\N'), (F.col('deathYear').cast(IntegerType()) - F.col('birthYear').cast(IntegerType()))).when((F.col(\"birthYear\") != '\\\\N') & (F.col(\"deathYear\") == '\\\\N'), (datetime.datetime.now().year - F.col('birthYear')).cast(IntegerType())).otherwise(None))\n",
    "\n",
    "# create is_alive column based on conditions\n",
    "is_alive_col = F.when(\n",
    "    (F.col(\"birthYear\") != '\\\\N') & (F.col(\"deathYear\") != '\\\\N'), False\n",
    ").when((F.col(\"birthYear\") != '\\\\N') & (F.col(\"deathYear\") == '\\\\N'), True).otherwise(None)\n",
    "\n",
    "name_basics_df = name_basics_df.withColumn('is_alive', is_alive_col)\n",
    "\n",
    "# drop unused columns\n",
    "name_basics_df_dropped = name_basics_df.drop('primaryProfession', 'knownForTitles', 'birthYear', 'deathYear')"
   ]
  },
  {
   "cell_type": "code",
   "execution_count": 6,
   "metadata": {},
   "outputs": [],
   "source": [
    "df_casts = title_casts_df.join(name_basics_df_dropped, ['nconst'])\n",
    "df_casts = df_casts.withColumn('character', F.when(F.col('character') == '\\\\N', F.lit(None)).otherwise(F.col('character')))\n",
    "\n",
    "# df_casts.show()"
   ]
  },
  {
   "cell_type": "code",
   "execution_count": 7,
   "metadata": {},
   "outputs": [
    {
     "output_type": "stream",
     "name": "stdout",
     "text": [
      "root\n |-- nconst: string (nullable = true)\n |-- name: string (nullable = true)\n |-- age: integer (nullable = true)\n |-- is_alive: boolean (nullable = true)\n\n"
     ]
    }
   ],
   "source": [
    "df_upload = df_casts.drop('tconst').drop('character').drop_duplicates(['nconst'])\n",
    "# df_upload.show()\n",
    "df_upload.printSchema()"
   ]
  },
  {
   "cell_type": "code",
   "execution_count": 8,
   "metadata": {},
   "outputs": [],
   "source": [
    "# insert df into dim_casts table\n",
    "df_upload.write.format('jdbc').options(\n",
    "      url='jdbc:postgresql://localhost:5433/imdb',\n",
    "      driver='org.postgresql.Driver',\n",
    "      dbtable='dim_casts',\n",
    "      user='admin',\n",
    "      password='password'\n",
    "      ).mode('append').save()"
   ]
  },
  {
   "cell_type": "code",
   "execution_count": 9,
   "metadata": {},
   "outputs": [
    {
     "output_type": "stream",
     "name": "stdout",
     "text": [
      "root\n |-- id: integer (nullable = true)\n |-- tconst: string (nullable = true)\n |-- type: string (nullable = true)\n |-- primary_title: string (nullable = true)\n |-- original_title: string (nullable = true)\n |-- is_adult: boolean (nullable = true)\n |-- start_year: short (nullable = true)\n |-- end_year: short (nullable = true)\n |-- runtime_minutes: short (nullable = true)\n |-- av_rating: float (nullable = true)\n |-- num_votes: integer (nullable = true)\n |-- genre_1: string (nullable = true)\n |-- genre_2: string (nullable = true)\n |-- genre_3: string (nullable = true)\n\n"
     ]
    }
   ],
   "source": [
    "title_desc_df = spark.read.format('jdbc').options(\n",
    "      url='jdbc:postgresql://localhost:5433/imdb',\n",
    "      driver='org.postgresql.Driver',\n",
    "      dbtable='dim_title_desc',\n",
    "      user='admin',\n",
    "      password='password'\n",
    "      ).load()\n",
    "title_desc_df.printSchema()"
   ]
  },
  {
   "cell_type": "code",
   "execution_count": 10,
   "metadata": {},
   "outputs": [],
   "source": [
    "title_desc_id_df = title_desc_df.select('id', 'tconst')\n",
    "title_desc_id_df = title_desc_id_df.withColumnRenamed('id', 'title_id')\n",
    "# title_desc_id_df.show()"
   ]
  },
  {
   "cell_type": "code",
   "execution_count": 11,
   "metadata": {},
   "outputs": [],
   "source": [
    "fact_titles_desc_df = title_desc_id_df.drop('tconst').withColumnRenamed('title_id', 'title_desc_id')"
   ]
  },
  {
   "cell_type": "code",
   "execution_count": 12,
   "metadata": {},
   "outputs": [
    {
     "output_type": "stream",
     "name": "stdout",
     "text": [
      "+----+-----+---+\n|year|month|day|\n+----+-----+---+\n|2021|    6|  8|\n+----+-----+---+\n\n"
     ]
    }
   ],
   "source": [
    "# create a df with year, month, day with today's date\n",
    "now = datetime.datetime.now()\n",
    "\n",
    "data = [(now.year,now.month,now.day)]\n",
    "\n",
    "schema = StructType([ \\\n",
    "    StructField(\"year\",IntegerType(),True), \\\n",
    "    StructField(\"month\",IntegerType(),True), \\\n",
    "    StructField(\"day\",IntegerType(),True), \\\n",
    "  ])\n",
    " \n",
    "dl_date_df = spark.createDataFrame(data=data,schema=schema)\n",
    "dl_date_df.show()"
   ]
  },
  {
   "cell_type": "code",
   "execution_count": 13,
   "metadata": {},
   "outputs": [],
   "source": [
    "# insert dataset download date into db\n",
    "dl_date_df.write.format('jdbc').options(\n",
    "      url='jdbc:postgresql://localhost:5433/imdb',\n",
    "      driver='org.postgresql.Driver',\n",
    "      dbtable='dim_download_date',\n",
    "      user='admin',\n",
    "      password='password'\n",
    "      ).mode('append').save()"
   ]
  },
  {
   "cell_type": "code",
   "execution_count": 14,
   "metadata": {},
   "outputs": [],
   "source": [
    "dl_date_pg_df = spark.read.format('jdbc').options(\n",
    "      url='jdbc:postgresql://localhost:5433/imdb',\n",
    "      driver='org.postgresql.Driver',\n",
    "      dbtable='dim_download_date',\n",
    "      user='admin',\n",
    "      password='password'\n",
    "      ).load()"
   ]
  },
  {
   "cell_type": "code",
   "execution_count": 15,
   "metadata": {},
   "outputs": [
    {
     "output_type": "stream",
     "name": "stdout",
     "text": [
      "+---+----+-----+---+\n| id|year|month|day|\n+---+----+-----+---+\n|  1|2021|    6|  8|\n+---+----+-----+---+\n\n"
     ]
    }
   ],
   "source": [
    "dl_date_pg_df.show()"
   ]
  },
  {
   "cell_type": "code",
   "execution_count": 16,
   "metadata": {},
   "outputs": [],
   "source": [
    "now = datetime.datetime.now()\n",
    "\n",
    "df_date_id = dl_date_pg_df.filter(\n",
    "        (F.col('year') == now.year) & \n",
    "        (F.col('month') == now.month) &\n",
    "        (F.col('day') == now.day))\n",
    "        \n",
    "dl_date_id = df_date_id.select('id').collect()[0][0]"
   ]
  },
  {
   "cell_type": "code",
   "execution_count": 18,
   "metadata": {},
   "outputs": [],
   "source": [
    "# fact_titles_desc_df.show()\n",
    "fact_titles_desc_df = fact_titles_desc_df.withColumn('download_date_id', F.lit(dl_date_id))"
   ]
  },
  {
   "cell_type": "code",
   "execution_count": 19,
   "metadata": {},
   "outputs": [],
   "source": [
    "fact_titles_desc_df.write.format('jdbc').options(\n",
    "      url='jdbc:postgresql://localhost:5433/imdb',\n",
    "      driver='org.postgresql.Driver',\n",
    "      dbtable='fact_titles',\n",
    "      user='admin',\n",
    "      password='password'\n",
    "      ).mode('append').save()"
   ]
  },
  {
   "cell_type": "code",
   "execution_count": 20,
   "metadata": {},
   "outputs": [
    {
     "output_type": "stream",
     "name": "stdout",
     "text": [
      "root\n |-- id: integer (nullable = true)\n |-- name: string (nullable = true)\n |-- age: short (nullable = true)\n |-- is_alive: boolean (nullable = true)\n |-- nconst: string (nullable = true)\n\n"
     ]
    }
   ],
   "source": [
    "casts_from_pg_df = spark.read.format('jdbc').options(\n",
    "      url='jdbc:postgresql://localhost:5433/imdb',\n",
    "      driver='org.postgresql.Driver',\n",
    "      dbtable='dim_casts',\n",
    "      user='admin',\n",
    "      password='password'\n",
    "      ).load()\n",
    "casts_from_pg_df.printSchema()"
   ]
  },
  {
   "cell_type": "code",
   "execution_count": 21,
   "metadata": {},
   "outputs": [
    {
     "output_type": "stream",
     "name": "stdout",
     "text": [
      "root\n |-- nconst: string (nullable = true)\n |-- tconst: string (nullable = true)\n |-- character: string (nullable = true)\n |-- name: string (nullable = true)\n |-- age: integer (nullable = true)\n |-- is_alive: boolean (nullable = true)\n\nroot\n |-- title_id: integer (nullable = true)\n |-- tconst: string (nullable = true)\n\n"
     ]
    }
   ],
   "source": [
    "df_casts.printSchema()\n",
    "title_desc_id_df.printSchema()"
   ]
  },
  {
   "cell_type": "code",
   "execution_count": 22,
   "metadata": {},
   "outputs": [],
   "source": [
    "casts_id_df = casts_from_pg_df.select('id', 'nconst')\n",
    "casts_id_df = casts_id_df.withColumnRenamed('id', 'cast_id')"
   ]
  },
  {
   "cell_type": "code",
   "execution_count": 23,
   "metadata": {},
   "outputs": [],
   "source": [
    "df_casts_composite_table = df_casts.select('nconst', 'tconst', 'character')"
   ]
  },
  {
   "cell_type": "code",
   "execution_count": 24,
   "metadata": {},
   "outputs": [],
   "source": [
    "df_tmp = casts_id_df.join(df_casts_composite_table, ['nconst'])"
   ]
  },
  {
   "cell_type": "code",
   "execution_count": 25,
   "metadata": {},
   "outputs": [
    {
     "output_type": "stream",
     "name": "stdout",
     "text": [
      "+-------+--------------------+--------+\n|cast_id|           character|title_id|\n+-------+--------------------+--------+\n| 228806|         Bert Duncan|     382|\n| 711763|       Wedding Guest|     382|\n|1390991|       Wedding Guest|     382|\n|1892894|Nat Berry - The L...|     382|\n|2083602|Polly Berry - the...|     382|\n|2079655|          Tom Atkins|     382|\n|1239779|The Young Woman's...|     386|\n|1267188|      The Blacksmith|     386|\n|1382635|       At Barn Dance|     386|\n|1960610|The Young Woman's...|     386|\n|2074687|The Young Woman's...|     386|\n|2083602|     The Young Woman|     386|\n|2088111|                null|     386|\n| 483378|       Mary's Mother|     391|\n| 579232|          The Artist|     391|\n| 616371|                Mary|     391|\n|1239779|       Mary's Father|     391|\n|1523742|      Bobby's Mother|     391|\n|1960610|               Bobby|     391|\n|2316200|The Artist's Fiancée|     391|\n+-------+--------------------+--------+\nonly showing top 20 rows\n\n"
     ]
    }
   ],
   "source": [
    "df_titles_casts = df_tmp.join(title_desc_id_df, ['tconst'])\n",
    "df_titles_casts = df_titles_casts.drop('nconst').drop('tconst')\n",
    "df_titles_casts.show()"
   ]
  },
  {
   "cell_type": "code",
   "execution_count": 26,
   "metadata": {},
   "outputs": [
    {
     "output_type": "execute_result",
     "data": {
      "text/plain": [
       "5307973"
      ]
     },
     "metadata": {},
     "execution_count": 26
    }
   ],
   "source": [
    "df_titles_casts.count()"
   ]
  },
  {
   "cell_type": "code",
   "execution_count": 27,
   "metadata": {},
   "outputs": [],
   "source": [
    "# insert df into titles_casts table\n",
    "df_titles_casts.write.format('jdbc').options(\n",
    "      url='jdbc:postgresql://localhost:5433/imdb',\n",
    "      driver='org.postgresql.Driver',\n",
    "      dbtable='titles_casts',\n",
    "      user='admin',\n",
    "      password='password'\n",
    "      ).mode('append').save()"
   ]
  },
  {
   "cell_type": "code",
   "execution_count": null,
   "metadata": {},
   "outputs": [],
   "source": []
  }
 ]
}